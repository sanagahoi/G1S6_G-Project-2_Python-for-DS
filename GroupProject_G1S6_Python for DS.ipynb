{
 "cells": [
  {
   "cell_type": "markdown",
   "id": "3752531e",
   "metadata": {},
   "source": [
    "# Domain:\n",
    "\n",
    "○ E-commerce"
   ]
  },
  {
   "cell_type": "markdown",
   "id": "38ce961c",
   "metadata": {},
   "source": [
    "### **Project Objective:**\n",
    "\n",
    "Based on the given users and items data of an e-commerce company, segment\n",
    "the similar user and items into suitable clusters. Analyze the clusters and provide\n",
    "your insights to help the organization promote their business.\n",
    "\n",
    "\n",
    "\n",
    "\n",
    "\n"
   ]
  },
  {
   "cell_type": "markdown",
   "id": "ef29b489",
   "metadata": {},
   "source": [
    "## ● Import the required libraries and load the data:"
   ]
  },
  {
   "cell_type": "markdown",
   "id": "550bcd66",
   "metadata": {},
   "source": [
    "### 1. Load the required libraries and read the dataset. (1)\n",
    "\n"
   ]
  },
  {
   "cell_type": "code",
   "execution_count": 1,
   "id": "67c985ea",
   "metadata": {},
   "outputs": [],
   "source": [
    "import pandas as pd\n",
    "import numpy as np\n",
    "import matplotlib.pyplot as plt\n",
    "%matplotlib inline\n",
    "import seaborn as sns\n",
    "import warnings \n",
    "warnings.filterwarnings('ignore')\n",
    "\n",
    "from sklearn.preprocessing import StandardScaler,LabelEncoder\n",
    "from scipy import stats\n",
    "from sklearn.cluster import KMeans\n",
    "from scipy.stats import zscore\n",
    "from scipy.spatial import distance\n",
    "from scipy.cluster.hierarchy import linkage, dendrogram, fcluster\n",
    "from sklearn.cluster import AgglomerativeClustering\n",
    "from sklearn.decomposition import PCA"
   ]
  },
  {
   "cell_type": "code",
   "execution_count": 2,
   "id": "ce1e9893",
   "metadata": {},
   "outputs": [],
   "source": [
    "df = pd.read_csv(\"renttherunway.csv\")"
   ]
  },
  {
   "cell_type": "markdown",
   "id": "76971876",
   "metadata": {},
   "source": [
    "### 2. Check the first few samples, shape, info of the data and try to familiarize yourself with different features (2)"
   ]
  },
  {
   "cell_type": "code",
   "execution_count": 3,
   "id": "7ac0d871",
   "metadata": {},
   "outputs": [
    {
     "data": {
      "text/html": [
       "<div>\n",
       "<style scoped>\n",
       "    .dataframe tbody tr th:only-of-type {\n",
       "        vertical-align: middle;\n",
       "    }\n",
       "\n",
       "    .dataframe tbody tr th {\n",
       "        vertical-align: top;\n",
       "    }\n",
       "\n",
       "    .dataframe thead th {\n",
       "        text-align: right;\n",
       "    }\n",
       "</style>\n",
       "<table border=\"1\" class=\"dataframe\">\n",
       "  <thead>\n",
       "    <tr style=\"text-align: right;\">\n",
       "      <th></th>\n",
       "      <th>Unnamed: 0</th>\n",
       "      <th>fit</th>\n",
       "      <th>user_id</th>\n",
       "      <th>bust size</th>\n",
       "      <th>item_id</th>\n",
       "      <th>weight</th>\n",
       "      <th>rating</th>\n",
       "      <th>rented for</th>\n",
       "      <th>review_text</th>\n",
       "      <th>body type</th>\n",
       "      <th>review_summary</th>\n",
       "      <th>category</th>\n",
       "      <th>height</th>\n",
       "      <th>size</th>\n",
       "      <th>age</th>\n",
       "      <th>review_date</th>\n",
       "    </tr>\n",
       "  </thead>\n",
       "  <tbody>\n",
       "    <tr>\n",
       "      <th>132734</th>\n",
       "      <td>132734</td>\n",
       "      <td>fit</td>\n",
       "      <td>132661</td>\n",
       "      <td>32c</td>\n",
       "      <td>130259</td>\n",
       "      <td>120lbs</td>\n",
       "      <td>10.0</td>\n",
       "      <td>party</td>\n",
       "      <td>I rented this dress for my fiance's Christmas ...</td>\n",
       "      <td>hourglass</td>\n",
       "      <td>LOVE!!!</td>\n",
       "      <td>dress</td>\n",
       "      <td>5' 8\"</td>\n",
       "      <td>4</td>\n",
       "      <td>34.0</td>\n",
       "      <td>May 17, 2013</td>\n",
       "    </tr>\n",
       "    <tr>\n",
       "      <th>87301</th>\n",
       "      <td>87301</td>\n",
       "      <td>fit</td>\n",
       "      <td>896478</td>\n",
       "      <td>34c</td>\n",
       "      <td>424962</td>\n",
       "      <td>112lbs</td>\n",
       "      <td>10.0</td>\n",
       "      <td>everyday</td>\n",
       "      <td>Fabric pretty warm for hot summer days, but lo...</td>\n",
       "      <td>petite</td>\n",
       "      <td>Preppy and cute.</td>\n",
       "      <td>dress</td>\n",
       "      <td>5' 2\"</td>\n",
       "      <td>4</td>\n",
       "      <td>34.0</td>\n",
       "      <td>August 15, 2016</td>\n",
       "    </tr>\n",
       "    <tr>\n",
       "      <th>120878</th>\n",
       "      <td>120878</td>\n",
       "      <td>large</td>\n",
       "      <td>658583</td>\n",
       "      <td>NaN</td>\n",
       "      <td>1175903</td>\n",
       "      <td>NaN</td>\n",
       "      <td>8.0</td>\n",
       "      <td>formal affair</td>\n",
       "      <td>Runs a bit large and long - a bit too open on ...</td>\n",
       "      <td>athletic</td>\n",
       "      <td>Wore it to Naval ball, definitely what I was l...</td>\n",
       "      <td>gown</td>\n",
       "      <td>5' 4\"</td>\n",
       "      <td>4</td>\n",
       "      <td>23.0</td>\n",
       "      <td>May 21, 2015</td>\n",
       "    </tr>\n",
       "    <tr>\n",
       "      <th>14226</th>\n",
       "      <td>14226</td>\n",
       "      <td>fit</td>\n",
       "      <td>250944</td>\n",
       "      <td>32g</td>\n",
       "      <td>1821702</td>\n",
       "      <td>113lbs</td>\n",
       "      <td>10.0</td>\n",
       "      <td>wedding</td>\n",
       "      <td>This was a really comfortable dress and looked...</td>\n",
       "      <td>full bust</td>\n",
       "      <td>Super Comfy and Sparkly!</td>\n",
       "      <td>sheath</td>\n",
       "      <td>4' 11\"</td>\n",
       "      <td>8</td>\n",
       "      <td>34.0</td>\n",
       "      <td>November 15, 2017</td>\n",
       "    </tr>\n",
       "    <tr>\n",
       "      <th>113368</th>\n",
       "      <td>113368</td>\n",
       "      <td>fit</td>\n",
       "      <td>112139</td>\n",
       "      <td>38d</td>\n",
       "      <td>1335648</td>\n",
       "      <td>215lbs</td>\n",
       "      <td>10.0</td>\n",
       "      <td>wedding</td>\n",
       "      <td>I received many compliments and was comfortabl...</td>\n",
       "      <td>NaN</td>\n",
       "      <td>Beautiful outdoor wedding in 102* weather.</td>\n",
       "      <td>gown</td>\n",
       "      <td>5' 10\"</td>\n",
       "      <td>36</td>\n",
       "      <td>47.0</td>\n",
       "      <td>September 5, 2017</td>\n",
       "    </tr>\n",
       "  </tbody>\n",
       "</table>\n",
       "</div>"
      ],
      "text/plain": [
       "        Unnamed: 0    fit  user_id bust size  item_id  weight  rating  \\\n",
       "132734      132734    fit   132661       32c   130259  120lbs    10.0   \n",
       "87301        87301    fit   896478       34c   424962  112lbs    10.0   \n",
       "120878      120878  large   658583       NaN  1175903     NaN     8.0   \n",
       "14226        14226    fit   250944       32g  1821702  113lbs    10.0   \n",
       "113368      113368    fit   112139       38d  1335648  215lbs    10.0   \n",
       "\n",
       "           rented for                                        review_text  \\\n",
       "132734          party  I rented this dress for my fiance's Christmas ...   \n",
       "87301        everyday  Fabric pretty warm for hot summer days, but lo...   \n",
       "120878  formal affair  Runs a bit large and long - a bit too open on ...   \n",
       "14226         wedding  This was a really comfortable dress and looked...   \n",
       "113368        wedding  I received many compliments and was comfortabl...   \n",
       "\n",
       "        body type                                     review_summary category  \\\n",
       "132734  hourglass                                            LOVE!!!    dress   \n",
       "87301      petite                                   Preppy and cute.    dress   \n",
       "120878   athletic  Wore it to Naval ball, definitely what I was l...     gown   \n",
       "14226   full bust                           Super Comfy and Sparkly!   sheath   \n",
       "113368        NaN         Beautiful outdoor wedding in 102* weather.     gown   \n",
       "\n",
       "        height  size   age        review_date  \n",
       "132734   5' 8\"     4  34.0       May 17, 2013  \n",
       "87301    5' 2\"     4  34.0    August 15, 2016  \n",
       "120878   5' 4\"     4  23.0       May 21, 2015  \n",
       "14226   4' 11\"     8  34.0  November 15, 2017  \n",
       "113368  5' 10\"    36  47.0  September 5, 2017  "
      ]
     },
     "execution_count": 3,
     "metadata": {},
     "output_type": "execute_result"
    }
   ],
   "source": [
    "df.sample(n=5)"
   ]
  },
  {
   "cell_type": "code",
   "execution_count": 4,
   "id": "d17de7aa",
   "metadata": {},
   "outputs": [
    {
     "data": {
      "text/plain": [
       "(192544, 16)"
      ]
     },
     "execution_count": 4,
     "metadata": {},
     "output_type": "execute_result"
    }
   ],
   "source": [
    "df.shape"
   ]
  },
  {
   "cell_type": "code",
   "execution_count": 5,
   "id": "e9fc566c",
   "metadata": {
    "scrolled": false
   },
   "outputs": [
    {
     "name": "stdout",
     "output_type": "stream",
     "text": [
      "<class 'pandas.core.frame.DataFrame'>\n",
      "RangeIndex: 192544 entries, 0 to 192543\n",
      "Data columns (total 16 columns):\n",
      " #   Column          Non-Null Count   Dtype  \n",
      "---  ------          --------------   -----  \n",
      " 0   Unnamed: 0      192544 non-null  int64  \n",
      " 1   fit             192544 non-null  object \n",
      " 2   user_id         192544 non-null  int64  \n",
      " 3   bust size       174133 non-null  object \n",
      " 4   item_id         192544 non-null  int64  \n",
      " 5   weight          162562 non-null  object \n",
      " 6   rating          192462 non-null  float64\n",
      " 7   rented for      192534 non-null  object \n",
      " 8   review_text     192482 non-null  object \n",
      " 9   body type       177907 non-null  object \n",
      " 10  review_summary  192199 non-null  object \n",
      " 11  category        192544 non-null  object \n",
      " 12  height          191867 non-null  object \n",
      " 13  size            192544 non-null  int64  \n",
      " 14  age             191584 non-null  float64\n",
      " 15  review_date     192544 non-null  object \n",
      "dtypes: float64(2), int64(4), object(10)\n",
      "memory usage: 23.5+ MB\n"
     ]
    }
   ],
   "source": [
    "df.info()"
   ]
  },
  {
   "cell_type": "markdown",
   "id": "23c4e699",
   "metadata": {},
   "source": [
    "## ● Data cleansing and Exploratory data analysis:"
   ]
  },
  {
   "cell_type": "markdown",
   "id": "d602b67c",
   "metadata": {},
   "source": [
    "### 3. Check if there are any duplicate records in the dataset? If any, drop them.(1)\n"
   ]
  },
  {
   "cell_type": "code",
   "execution_count": 6,
   "id": "a5f5fa82",
   "metadata": {},
   "outputs": [
    {
     "data": {
      "text/plain": [
       "0"
      ]
     },
     "execution_count": 6,
     "metadata": {},
     "output_type": "execute_result"
    }
   ],
   "source": [
    "duplicates = df.duplicated().sum()\n",
    "duplicates"
   ]
  },
  {
   "cell_type": "markdown",
   "id": "05f240ce",
   "metadata": {},
   "source": [
    "- There are no duplicate values"
   ]
  },
  {
   "cell_type": "markdown",
   "id": "3935da65",
   "metadata": {},
   "source": [
    "### 4. Drop the columns which you think redundant for the analysis.(Hint: drop columns like ‘id’, ‘review’) (1)"
   ]
  },
  {
   "cell_type": "code",
   "execution_count": 6,
   "id": "a9ddcd03",
   "metadata": {
    "scrolled": true
   },
   "outputs": [
    {
     "data": {
      "text/html": [
       "<div>\n",
       "<style scoped>\n",
       "    .dataframe tbody tr th:only-of-type {\n",
       "        vertical-align: middle;\n",
       "    }\n",
       "\n",
       "    .dataframe tbody tr th {\n",
       "        vertical-align: top;\n",
       "    }\n",
       "\n",
       "    .dataframe thead th {\n",
       "        text-align: right;\n",
       "    }\n",
       "</style>\n",
       "<table border=\"1\" class=\"dataframe\">\n",
       "  <thead>\n",
       "    <tr style=\"text-align: right;\">\n",
       "      <th></th>\n",
       "      <th>fit</th>\n",
       "      <th>bust size</th>\n",
       "      <th>weight</th>\n",
       "      <th>rating</th>\n",
       "      <th>rented for</th>\n",
       "      <th>body type</th>\n",
       "      <th>category</th>\n",
       "      <th>height</th>\n",
       "      <th>size</th>\n",
       "      <th>age</th>\n",
       "    </tr>\n",
       "  </thead>\n",
       "  <tbody>\n",
       "    <tr>\n",
       "      <th>0</th>\n",
       "      <td>fit</td>\n",
       "      <td>34d</td>\n",
       "      <td>137lbs</td>\n",
       "      <td>10.0</td>\n",
       "      <td>vacation</td>\n",
       "      <td>hourglass</td>\n",
       "      <td>romper</td>\n",
       "      <td>5' 8\"</td>\n",
       "      <td>14</td>\n",
       "      <td>28.0</td>\n",
       "    </tr>\n",
       "    <tr>\n",
       "      <th>1</th>\n",
       "      <td>fit</td>\n",
       "      <td>34b</td>\n",
       "      <td>132lbs</td>\n",
       "      <td>10.0</td>\n",
       "      <td>other</td>\n",
       "      <td>straight &amp; narrow</td>\n",
       "      <td>gown</td>\n",
       "      <td>5' 6\"</td>\n",
       "      <td>12</td>\n",
       "      <td>36.0</td>\n",
       "    </tr>\n",
       "    <tr>\n",
       "      <th>2</th>\n",
       "      <td>fit</td>\n",
       "      <td>NaN</td>\n",
       "      <td>NaN</td>\n",
       "      <td>10.0</td>\n",
       "      <td>party</td>\n",
       "      <td>NaN</td>\n",
       "      <td>sheath</td>\n",
       "      <td>5' 4\"</td>\n",
       "      <td>4</td>\n",
       "      <td>116.0</td>\n",
       "    </tr>\n",
       "    <tr>\n",
       "      <th>3</th>\n",
       "      <td>fit</td>\n",
       "      <td>34c</td>\n",
       "      <td>135lbs</td>\n",
       "      <td>8.0</td>\n",
       "      <td>formal affair</td>\n",
       "      <td>pear</td>\n",
       "      <td>dress</td>\n",
       "      <td>5' 5\"</td>\n",
       "      <td>8</td>\n",
       "      <td>34.0</td>\n",
       "    </tr>\n",
       "    <tr>\n",
       "      <th>4</th>\n",
       "      <td>fit</td>\n",
       "      <td>34b</td>\n",
       "      <td>145lbs</td>\n",
       "      <td>10.0</td>\n",
       "      <td>wedding</td>\n",
       "      <td>athletic</td>\n",
       "      <td>gown</td>\n",
       "      <td>5' 9\"</td>\n",
       "      <td>12</td>\n",
       "      <td>27.0</td>\n",
       "    </tr>\n",
       "  </tbody>\n",
       "</table>\n",
       "</div>"
      ],
      "text/plain": [
       "   fit bust size  weight  rating     rented for          body type category  \\\n",
       "0  fit       34d  137lbs    10.0       vacation          hourglass   romper   \n",
       "1  fit       34b  132lbs    10.0          other  straight & narrow     gown   \n",
       "2  fit       NaN     NaN    10.0          party                NaN   sheath   \n",
       "3  fit       34c  135lbs     8.0  formal affair               pear    dress   \n",
       "4  fit       34b  145lbs    10.0        wedding           athletic     gown   \n",
       "\n",
       "  height  size    age  \n",
       "0  5' 8\"    14   28.0  \n",
       "1  5' 6\"    12   36.0  \n",
       "2  5' 4\"     4  116.0  \n",
       "3  5' 5\"     8   34.0  \n",
       "4  5' 9\"    12   27.0  "
      ]
     },
     "execution_count": 6,
     "metadata": {},
     "output_type": "execute_result"
    }
   ],
   "source": [
    "df = df.drop(['Unnamed: 0',\"user_id\", 'item_id', 'review_text','review_summary' , 'review_date'] , axis=1)\n",
    "df.head()"
   ]
  },
  {
   "cell_type": "code",
   "execution_count": 5,
   "id": "9ec60763",
   "metadata": {},
   "outputs": [
    {
     "data": {
      "text/plain": [
       "(192544, 10)"
      ]
     },
     "execution_count": 5,
     "metadata": {},
     "output_type": "execute_result"
    }
   ],
   "source": [
    "# checking the no. of rows and columns after dropping\n",
    "df.shape"
   ]
  },
  {
   "cell_type": "markdown",
   "id": "771536e6",
   "metadata": {},
   "source": [
    "### 5. Check the column 'weight', Is there any presence of string data? If yes, remove the string data and convert to float. (Hint: 'weight' has the suffix as lbs) (2)"
   ]
  },
  {
   "cell_type": "code",
   "execution_count": 7,
   "id": "c50573f7",
   "metadata": {},
   "outputs": [
    {
     "data": {
      "text/plain": [
       "True"
      ]
     },
     "execution_count": 7,
     "metadata": {},
     "output_type": "execute_result"
    }
   ],
   "source": [
    "# Checking the presence of string data in the 'weight' column\n",
    "has_string_data = df['weight'].str.contains('lbs').any()\n",
    "has_string_data"
   ]
  },
  {
   "cell_type": "code",
   "execution_count": 8,
   "id": "b8544103",
   "metadata": {},
   "outputs": [
    {
     "data": {
      "text/plain": [
       "0         137.0\n",
       "1         132.0\n",
       "2           NaN\n",
       "3         135.0\n",
       "4         145.0\n",
       "          ...  \n",
       "192539    140.0\n",
       "192540    100.0\n",
       "192541    135.0\n",
       "192542    165.0\n",
       "192543    155.0\n",
       "Name: weight, Length: 192544, dtype: float64"
      ]
     },
     "execution_count": 8,
     "metadata": {},
     "output_type": "execute_result"
    }
   ],
   "source": [
    "if has_string_data:\n",
    "    # converting the 'weight' column to float\n",
    "    df['weight'] = df['weight'].str.replace('lbs', '').astype(float)\n",
    "else:\n",
    "    print(\"No string data found in the 'weight' column.\")\n",
    "    \n",
    "# Checking the weight column after replacement\n",
    "df['weight']"
   ]
  },
  {
   "cell_type": "markdown",
   "id": "b9322223",
   "metadata": {},
   "source": [
    "### 6. Check the unique categories for the column 'rented for' and group 'party: cocktail' category with 'party'. (2)\n"
   ]
  },
  {
   "cell_type": "code",
   "execution_count": 9,
   "id": "c9b53f8c",
   "metadata": {},
   "outputs": [
    {
     "data": {
      "text/plain": [
       "array(['vacation', 'other', 'party', 'formal affair', 'wedding', 'date',\n",
       "       'everyday', 'work', nan, 'party: cocktail'], dtype=object)"
      ]
     },
     "execution_count": 9,
     "metadata": {},
     "output_type": "execute_result"
    }
   ],
   "source": [
    "# Check the unique categories in the 'rented for' column\n",
    "unique_categories = df['rented for'].unique()\n",
    "unique_categories"
   ]
  },
  {
   "cell_type": "code",
   "execution_count": 10,
   "id": "4ab598b9",
   "metadata": {},
   "outputs": [
    {
     "name": "stdout",
     "output_type": "stream",
     "text": [
      "unique values after replacement : \n",
      "['vacation' 'other' 'party' 'formal affair' 'wedding' 'date' 'everyday'\n",
      " 'work' nan]\n"
     ]
    }
   ],
   "source": [
    "# Grouping 'party: cocktail' category with 'party'\n",
    "df['rented for'] = df['rented for'].replace('party: cocktail', 'party')\n",
    "\n",
    "# Verifying the updated 'rented for' column\n",
    "updated_categories = df['rented for'].unique()\n",
    "print('unique values after replacement : ')\n",
    "print(updated_categories)"
   ]
  },
  {
   "cell_type": "markdown",
   "id": "bb7ecd5d",
   "metadata": {},
   "source": [
    "### 7. The column 'height' is in feet with a quotation mark, Convert to inches with float datatype. (3)\n"
   ]
  },
  {
   "cell_type": "code",
   "execution_count": 11,
   "id": "3973e22d",
   "metadata": {
    "scrolled": true
   },
   "outputs": [
    {
     "data": {
      "text/plain": [
       "0         5' 8\"\n",
       "1         5' 6\"\n",
       "2         5' 4\"\n",
       "3         5' 5\"\n",
       "4         5' 9\"\n",
       "          ...  \n",
       "192539    5' 9\"\n",
       "192540    5' 1\"\n",
       "192541    5' 8\"\n",
       "192542    5' 6\"\n",
       "192543    5' 6\"\n",
       "Name: height, Length: 192544, dtype: object"
      ]
     },
     "execution_count": 11,
     "metadata": {},
     "output_type": "execute_result"
    }
   ],
   "source": [
    "df['height']"
   ]
  },
  {
   "cell_type": "code",
   "execution_count": 12,
   "id": "1155f281",
   "metadata": {},
   "outputs": [
    {
     "data": {
      "text/plain": [
       "0         5. 8\n",
       "1         5. 6\n",
       "2         5. 4\n",
       "3         5. 5\n",
       "4         5. 9\n",
       "          ... \n",
       "192539    5. 9\n",
       "192540    5. 1\n",
       "192541    5. 8\n",
       "192542    5. 6\n",
       "192543    5. 6\n",
       "Name: height, Length: 192544, dtype: object"
      ]
     },
     "execution_count": 12,
     "metadata": {},
     "output_type": "execute_result"
    }
   ],
   "source": [
    "def convert_value(x):\n",
    "    \n",
    "    if isinstance(x, str):\n",
    "        return (x.replace(\"'\", '.').replace('\"', ''))\n",
    "        \n",
    "    return (x)\n",
    "\n",
    "df['height'] = df['height'].apply(convert_value)\n",
    "\n",
    "# Checking the column after removing quotes\n",
    "df['height']"
   ]
  },
  {
   "cell_type": "code",
   "execution_count": 13,
   "id": "77d7fbe7",
   "metadata": {},
   "outputs": [
    {
     "name": "stdout",
     "output_type": "stream",
     "text": [
      "Height in inches: \n"
     ]
    },
    {
     "data": {
      "text/plain": [
       "0         68.0\n",
       "1         66.0\n",
       "2         64.0\n",
       "3         65.0\n",
       "4         69.0\n",
       "          ... \n",
       "192539    69.0\n",
       "192540    61.0\n",
       "192541    68.0\n",
       "192542    66.0\n",
       "192543    66.0\n",
       "Name: height, Length: 192544, dtype: float64"
      ]
     },
     "execution_count": 13,
     "metadata": {},
     "output_type": "execute_result"
    }
   ],
   "source": [
    "def height_conversion(height):\n",
    "    if((pd.isna(height))!= True):\n",
    "        chk = str(height)\n",
    "        h = []\n",
    "        h = chk.split(\".\")  \n",
    "        ft = float(h[0])\n",
    "        if( h[1] != ''):\n",
    "            inch = float(h[1])\n",
    "        else:\n",
    "            inch = 0\n",
    "         \n",
    "        h = ft*12 + inch\n",
    "        return h\n",
    "    else:\n",
    "        return height\n",
    "    \n",
    "df['height'] = df['height'].apply(height_conversion)\n",
    "\n",
    "# Checking the values after conversion\n",
    "print('Height in inches: ')\n",
    "df['height']"
   ]
  },
  {
   "cell_type": "markdown",
   "id": "7adce281",
   "metadata": {},
   "source": [
    "### 8. Check for missing values in each column of the dataset? If it exists, impute them with appropriate methods. (3)\n"
   ]
  },
  {
   "cell_type": "code",
   "execution_count": 14,
   "id": "e5d751bf",
   "metadata": {},
   "outputs": [
    {
     "name": "stdout",
     "output_type": "stream",
     "text": [
      "bust size     18411\n",
      "weight        29982\n",
      "rating           82\n",
      "rented for       10\n",
      "body type     14637\n",
      "height          677\n",
      "age             960\n",
      "dtype: int64\n"
     ]
    }
   ],
   "source": [
    "missing_values = df.isnull().sum()\n",
    "\n",
    "print(missing_values[missing_values > 0])"
   ]
  },
  {
   "cell_type": "code",
   "execution_count": 17,
   "id": "0cdbdfea",
   "metadata": {
    "scrolled": true
   },
   "outputs": [],
   "source": [
    "# Impute missing values with appropriate methods"
   ]
  },
  {
   "cell_type": "code",
   "execution_count": 14,
   "id": "845701e1",
   "metadata": {},
   "outputs": [
    {
     "data": {
      "text/plain": [
       "array(['34d', '34b', nan, '34c', '32b', '34d+', '36d', '36a', '32d+',\n",
       "       '36c', '32c', '32dd', '30dd', '32d', '36b', '34a', '34dd',\n",
       "       '40ddd/e', '32a', '38d+', '38c', '34ddd/e', '38a', '38b', '38d',\n",
       "       '36ddd/e', '38dd', '38f', '42dd', '36dd', '40g', '40dd', '28f',\n",
       "       '30ddd/e', '32ddd/e', '28b', '36d+', '40d', '28dd', '34f', '42c',\n",
       "       '30d', '30b', '42d', '34aa', '32aa', '36f', '28c', '40b', '36aa',\n",
       "       '34g', '32f', '42ddd/e', '40c', '28g', '28aa', '36g', '30a',\n",
       "       '44ddd/e', '30c', '30aa', '44dd', '32i', '32g', '30g', '38h',\n",
       "       '30h', '34j', '38ddd/e', '32h', '28a', '44d', '40h', '38g', '34h',\n",
       "       '36j', '40f', '36h', '28ddd/e', '44f', '34i', '30f', '36i', '30i',\n",
       "       '28h', '42b', '42j', '32j', '46c', '48d', '38aa', '38i', '48dd',\n",
       "       '28d', '28i', '46ddd/e', '42g', '44c', '42f', '40j', '38j', '46f',\n",
       "       '44b', '44g', '42h', '40i', '44h'], dtype=object)"
      ]
     },
     "execution_count": 14,
     "metadata": {},
     "output_type": "execute_result"
    }
   ],
   "source": [
    "# Checking the unique values in the column\n",
    "df['bust size'].unique()"
   ]
  },
  {
   "cell_type": "code",
   "execution_count": 15,
   "id": "9c3a3044",
   "metadata": {},
   "outputs": [
    {
     "data": {
      "text/plain": [
       "0"
      ]
     },
     "execution_count": 15,
     "metadata": {},
     "output_type": "execute_result"
    }
   ],
   "source": [
    "df['bust size'] = df['bust size'].fillna(df['bust size'].mode()[0])\n",
    "\n",
    "# checking the missing values in column after imputation\n",
    "df['bust size'].isnull().sum()"
   ]
  },
  {
   "cell_type": "code",
   "execution_count": 16,
   "id": "d5603f61",
   "metadata": {},
   "outputs": [
    {
     "data": {
      "text/plain": [
       "0"
      ]
     },
     "execution_count": 16,
     "metadata": {},
     "output_type": "execute_result"
    }
   ],
   "source": [
    "# weight column has numerical values so filling null with mean()\n",
    "df['weight'] = df['weight'].fillna(df['weight'].mean())\n",
    "\n",
    "# checking the missing values in column after imputation\n",
    "df['weight'].isnull().sum()"
   ]
  },
  {
   "cell_type": "code",
   "execution_count": 17,
   "id": "e4bdf039",
   "metadata": {},
   "outputs": [
    {
     "data": {
      "text/plain": [
       "0"
      ]
     },
     "execution_count": 17,
     "metadata": {},
     "output_type": "execute_result"
    }
   ],
   "source": [
    "# weight column has numerical values so filling null with mean()\n",
    "df['rating'] = df['rating'].fillna(df['rating'].mean())\n",
    "\n",
    "# checking the missing values in column after imputation\n",
    "df['rating'].isnull().sum()"
   ]
  },
  {
   "cell_type": "code",
   "execution_count": 18,
   "id": "d53289e2",
   "metadata": {},
   "outputs": [
    {
     "data": {
      "text/plain": [
       "array(['vacation', 'other', 'party', 'formal affair', 'wedding', 'date',\n",
       "       'everyday', 'work', nan], dtype=object)"
      ]
     },
     "execution_count": 18,
     "metadata": {},
     "output_type": "execute_result"
    }
   ],
   "source": [
    "# checking the unique values in column\n",
    "df['rented for'].unique()"
   ]
  },
  {
   "cell_type": "code",
   "execution_count": 20,
   "id": "d582434b",
   "metadata": {},
   "outputs": [
    {
     "data": {
      "text/plain": [
       "0"
      ]
     },
     "execution_count": 20,
     "metadata": {},
     "output_type": "execute_result"
    }
   ],
   "source": [
    "df['rented for'] = df['rented for'].fillna(df['rented for'].mode()[0])\n",
    "\n",
    "# checking the missing values in column after imputation\n",
    "df['rented for'].isnull().sum()"
   ]
  },
  {
   "cell_type": "code",
   "execution_count": 21,
   "id": "9135d246",
   "metadata": {},
   "outputs": [
    {
     "data": {
      "text/plain": [
       "array(['hourglass', 'straight & narrow', nan, 'pear', 'athletic',\n",
       "       'full bust', 'petite', 'apple'], dtype=object)"
      ]
     },
     "execution_count": 21,
     "metadata": {},
     "output_type": "execute_result"
    }
   ],
   "source": [
    "# checking the unique values in column\n",
    "df['body type'].unique()"
   ]
  },
  {
   "cell_type": "code",
   "execution_count": 22,
   "id": "6645f74f",
   "metadata": {},
   "outputs": [
    {
     "data": {
      "text/plain": [
       "0"
      ]
     },
     "execution_count": 22,
     "metadata": {},
     "output_type": "execute_result"
    }
   ],
   "source": [
    "df['body type'] = df['body type'].fillna(df['body type'].mode()[0])\n",
    "\n",
    "# checking the missing values in column after imputation\n",
    "df['body type'].isna().sum()"
   ]
  },
  {
   "cell_type": "code",
   "execution_count": 23,
   "id": "8cc79107",
   "metadata": {},
   "outputs": [
    {
     "data": {
      "text/plain": [
       "0"
      ]
     },
     "execution_count": 23,
     "metadata": {},
     "output_type": "execute_result"
    }
   ],
   "source": [
    "# Height column has numeric values so filling nulls with mean\n",
    "df['height'] = df['height'].fillna(df['height'].mean())\n",
    "\n",
    "# checking the missing values in column after imputation\n",
    "df['height'].isnull().sum()"
   ]
  },
  {
   "cell_type": "code",
   "execution_count": 24,
   "id": "213b8bda",
   "metadata": {
    "scrolled": true
   },
   "outputs": [
    {
     "data": {
      "text/plain": [
       "0"
      ]
     },
     "execution_count": 24,
     "metadata": {},
     "output_type": "execute_result"
    }
   ],
   "source": [
    "# Age is numeric column so using mean value to fill nulls\n",
    "df['age'] = df['age'].fillna(df['age'].mean())\n",
    "\n",
    "# checking the missing values in column after imputation\n",
    "df['age'].isnull().sum()"
   ]
  },
  {
   "cell_type": "code",
   "execution_count": 25,
   "id": "b1a99fac",
   "metadata": {},
   "outputs": [
    {
     "data": {
      "text/plain": [
       "fit           0\n",
       "bust size     0\n",
       "weight        0\n",
       "rating        0\n",
       "rented for    0\n",
       "body type     0\n",
       "category      0\n",
       "height        0\n",
       "size          0\n",
       "age           0\n",
       "dtype: int64"
      ]
     },
     "execution_count": 25,
     "metadata": {},
     "output_type": "execute_result"
    }
   ],
   "source": [
    "# Checking null values after imputation\n",
    "df.isnull().sum()"
   ]
  },
  {
   "cell_type": "markdown",
   "id": "b30d0701",
   "metadata": {},
   "source": [
    "### 9. Check the statistical summary for the numerical and categorical columns and write your findings. (3)\n"
   ]
  },
  {
   "cell_type": "code",
   "execution_count": 26,
   "id": "7b834d41",
   "metadata": {
    "scrolled": true
   },
   "outputs": [
    {
     "data": {
      "text/html": [
       "<div>\n",
       "<style scoped>\n",
       "    .dataframe tbody tr th:only-of-type {\n",
       "        vertical-align: middle;\n",
       "    }\n",
       "\n",
       "    .dataframe tbody tr th {\n",
       "        vertical-align: top;\n",
       "    }\n",
       "\n",
       "    .dataframe thead th {\n",
       "        text-align: right;\n",
       "    }\n",
       "</style>\n",
       "<table border=\"1\" class=\"dataframe\">\n",
       "  <thead>\n",
       "    <tr style=\"text-align: right;\">\n",
       "      <th></th>\n",
       "      <th>weight</th>\n",
       "      <th>rating</th>\n",
       "      <th>height</th>\n",
       "      <th>size</th>\n",
       "      <th>age</th>\n",
       "    </tr>\n",
       "  </thead>\n",
       "  <tbody>\n",
       "    <tr>\n",
       "      <th>count</th>\n",
       "      <td>192544.000000</td>\n",
       "      <td>192544.000000</td>\n",
       "      <td>192544.000000</td>\n",
       "      <td>192544.000000</td>\n",
       "      <td>192544.000000</td>\n",
       "    </tr>\n",
       "    <tr>\n",
       "      <th>mean</th>\n",
       "      <td>137.391709</td>\n",
       "      <td>9.092371</td>\n",
       "      <td>65.310621</td>\n",
       "      <td>12.245175</td>\n",
       "      <td>33.871017</td>\n",
       "    </tr>\n",
       "    <tr>\n",
       "      <th>std</th>\n",
       "      <td>20.122771</td>\n",
       "      <td>1.429740</td>\n",
       "      <td>2.658793</td>\n",
       "      <td>8.494877</td>\n",
       "      <td>8.037969</td>\n",
       "    </tr>\n",
       "    <tr>\n",
       "      <th>min</th>\n",
       "      <td>50.000000</td>\n",
       "      <td>2.000000</td>\n",
       "      <td>54.000000</td>\n",
       "      <td>0.000000</td>\n",
       "      <td>0.000000</td>\n",
       "    </tr>\n",
       "    <tr>\n",
       "      <th>25%</th>\n",
       "      <td>125.000000</td>\n",
       "      <td>8.000000</td>\n",
       "      <td>63.000000</td>\n",
       "      <td>8.000000</td>\n",
       "      <td>29.000000</td>\n",
       "    </tr>\n",
       "    <tr>\n",
       "      <th>50%</th>\n",
       "      <td>137.391709</td>\n",
       "      <td>10.000000</td>\n",
       "      <td>65.000000</td>\n",
       "      <td>12.000000</td>\n",
       "      <td>32.000000</td>\n",
       "    </tr>\n",
       "    <tr>\n",
       "      <th>75%</th>\n",
       "      <td>145.000000</td>\n",
       "      <td>10.000000</td>\n",
       "      <td>67.000000</td>\n",
       "      <td>16.000000</td>\n",
       "      <td>37.000000</td>\n",
       "    </tr>\n",
       "    <tr>\n",
       "      <th>max</th>\n",
       "      <td>300.000000</td>\n",
       "      <td>10.000000</td>\n",
       "      <td>78.000000</td>\n",
       "      <td>58.000000</td>\n",
       "      <td>117.000000</td>\n",
       "    </tr>\n",
       "  </tbody>\n",
       "</table>\n",
       "</div>"
      ],
      "text/plain": [
       "              weight         rating         height           size  \\\n",
       "count  192544.000000  192544.000000  192544.000000  192544.000000   \n",
       "mean      137.391709       9.092371      65.310621      12.245175   \n",
       "std        20.122771       1.429740       2.658793       8.494877   \n",
       "min        50.000000       2.000000      54.000000       0.000000   \n",
       "25%       125.000000       8.000000      63.000000       8.000000   \n",
       "50%       137.391709      10.000000      65.000000      12.000000   \n",
       "75%       145.000000      10.000000      67.000000      16.000000   \n",
       "max       300.000000      10.000000      78.000000      58.000000   \n",
       "\n",
       "                 age  \n",
       "count  192544.000000  \n",
       "mean       33.871017  \n",
       "std         8.037969  \n",
       "min         0.000000  \n",
       "25%        29.000000  \n",
       "50%        32.000000  \n",
       "75%        37.000000  \n",
       "max       117.000000  "
      ]
     },
     "execution_count": 26,
     "metadata": {},
     "output_type": "execute_result"
    }
   ],
   "source": [
    "df.describe()"
   ]
  },
  {
   "cell_type": "markdown",
   "id": "a81a8b66",
   "metadata": {},
   "source": [
    "- Rating ranges between **2 - 10** with average rating of **9.09**.\n",
    "- the standard size of the product lies between 0 to 58.\n",
    "- The average age of customers is 34 (approx) years."
   ]
  },
  {
   "cell_type": "code",
   "execution_count": 27,
   "id": "28fcc209",
   "metadata": {
    "scrolled": true
   },
   "outputs": [
    {
     "data": {
      "text/html": [
       "<div>\n",
       "<style scoped>\n",
       "    .dataframe tbody tr th:only-of-type {\n",
       "        vertical-align: middle;\n",
       "    }\n",
       "\n",
       "    .dataframe tbody tr th {\n",
       "        vertical-align: top;\n",
       "    }\n",
       "\n",
       "    .dataframe thead th {\n",
       "        text-align: right;\n",
       "    }\n",
       "</style>\n",
       "<table border=\"1\" class=\"dataframe\">\n",
       "  <thead>\n",
       "    <tr style=\"text-align: right;\">\n",
       "      <th></th>\n",
       "      <th>fit</th>\n",
       "      <th>bust size</th>\n",
       "      <th>rented for</th>\n",
       "      <th>body type</th>\n",
       "      <th>category</th>\n",
       "    </tr>\n",
       "  </thead>\n",
       "  <tbody>\n",
       "    <tr>\n",
       "      <th>count</th>\n",
       "      <td>192544</td>\n",
       "      <td>192544</td>\n",
       "      <td>192544</td>\n",
       "      <td>192544</td>\n",
       "      <td>192544</td>\n",
       "    </tr>\n",
       "    <tr>\n",
       "      <th>unique</th>\n",
       "      <td>3</td>\n",
       "      <td>106</td>\n",
       "      <td>8</td>\n",
       "      <td>7</td>\n",
       "      <td>68</td>\n",
       "    </tr>\n",
       "    <tr>\n",
       "      <th>top</th>\n",
       "      <td>fit</td>\n",
       "      <td>34b</td>\n",
       "      <td>wedding</td>\n",
       "      <td>hourglass</td>\n",
       "      <td>dress</td>\n",
       "    </tr>\n",
       "    <tr>\n",
       "      <th>freq</th>\n",
       "      <td>142058</td>\n",
       "      <td>45696</td>\n",
       "      <td>57794</td>\n",
       "      <td>69986</td>\n",
       "      <td>92884</td>\n",
       "    </tr>\n",
       "  </tbody>\n",
       "</table>\n",
       "</div>"
      ],
      "text/plain": [
       "           fit bust size rented for  body type category\n",
       "count   192544    192544     192544     192544   192544\n",
       "unique       3       106          8          7       68\n",
       "top        fit       34b    wedding  hourglass    dress\n",
       "freq    142058     45696      57794      69986    92884"
      ]
     },
     "execution_count": 27,
     "metadata": {},
     "output_type": "execute_result"
    }
   ],
   "source": [
    "df.describe(include='O')"
   ]
  },
  {
   "cell_type": "markdown",
   "id": "eb0b476e",
   "metadata": {},
   "source": [
    "- There are 5 Categorical features.\n",
    "- fit column has majority of 'fit' feedback.\n",
    "- Bust-size has maximum number of unique categories i.e. 106 categories but **34b** has high frequency of 45696 out of total 192544.\n",
    "- Mostly dress category out of 68 different product category has been chosen by the customer.\n",
    "- Most of the product has been rented for wedding.\n",
    "- Top of all Body types is **Hourglass**."
   ]
  },
  {
   "cell_type": "markdown",
   "id": "ce0ae591",
   "metadata": {},
   "source": [
    "### 10. Are there outliers present in the column age? If yes, treat them with the appropriate method. (3)\n"
   ]
  },
  {
   "cell_type": "code",
   "execution_count": 28,
   "id": "22645933",
   "metadata": {},
   "outputs": [
    {
     "data": {
      "image/png": "[encoded data removed]",
      "text/plain": [
       "<Figure size 640x480 with 1 Axes>"
      ]
     },
     "metadata": {},
     "output_type": "display_data"
    }
   ],
   "source": [
    "sns.boxplot(x= df['age'])\n",
    "plt.title('Distribution of age')\n",
    "plt.show()"
   ]
  },
  {
   "cell_type": "code",
   "execution_count": 29,
   "id": "719b6de0",
   "metadata": {
    "scrolled": true
   },
   "outputs": [
    {
     "name": "stdout",
     "output_type": "stream",
     "text": [
      "lower bound :  17.0\n",
      "upper bound :  49.0\n"
     ]
    },
    {
     "data": {
      "text/plain": [
       "Series([], Name: age, dtype: float64)"
      ]
     },
     "execution_count": 29,
     "metadata": {},
     "output_type": "execute_result"
    }
   ],
   "source": [
    "Q1 = df['age'].quantile(0.25) \n",
    "Q3 = df['age'].quantile(0.75)\n",
    "\n",
    "IQR = Q3 -Q1\n",
    "\n",
    "lower_whisker = Q1 - (1.5*IQR)\n",
    "upper_whisker = Q3 + (1.5*IQR)\n",
    "\n",
    "print(\"lower bound : \", lower_whisker)\n",
    "print(\"upper bound : \", upper_whisker)\n",
    "\n",
    "df['age'].where(df['age'] <= upper_whisker, upper_whisker, inplace=True)\n",
    "df['age'].where(df['age'] >= lower_whisker, lower_whisker, inplace=True)\n",
    "\n",
    "outliers = df[(df['age'] < lower_whisker) | (df['age']> upper_whisker)]\n",
    "\n",
    "outliers['age']"
   ]
  },
  {
   "cell_type": "code",
   "execution_count": 34,
   "id": "f8c7f4a6",
   "metadata": {},
   "outputs": [
    {
     "name": "stdout",
     "output_type": "stream",
     "text": [
      "DATA without Outliers :\n"
     ]
    },
    {
     "data": {
      "text/html": [
       "<div>\n",
       "<style scoped>\n",
       "    .dataframe tbody tr th:only-of-type {\n",
       "        vertical-align: middle;\n",
       "    }\n",
       "\n",
       "    .dataframe tbody tr th {\n",
       "        vertical-align: top;\n",
       "    }\n",
       "\n",
       "    .dataframe thead th {\n",
       "        text-align: right;\n",
       "    }\n",
       "</style>\n",
       "<table border=\"1\" class=\"dataframe\">\n",
       "  <thead>\n",
       "    <tr style=\"text-align: right;\">\n",
       "      <th></th>\n",
       "      <th>fit</th>\n",
       "      <th>bust size</th>\n",
       "      <th>weight</th>\n",
       "      <th>rating</th>\n",
       "      <th>rented for</th>\n",
       "      <th>body type</th>\n",
       "      <th>category</th>\n",
       "      <th>height</th>\n",
       "      <th>size</th>\n",
       "      <th>age</th>\n",
       "    </tr>\n",
       "  </thead>\n",
       "  <tbody>\n",
       "    <tr>\n",
       "      <th>0</th>\n",
       "      <td>fit</td>\n",
       "      <td>34d</td>\n",
       "      <td>137.000000</td>\n",
       "      <td>10.0</td>\n",
       "      <td>vacation</td>\n",
       "      <td>hourglass</td>\n",
       "      <td>romper</td>\n",
       "      <td>68.0</td>\n",
       "      <td>14</td>\n",
       "      <td>28.0</td>\n",
       "    </tr>\n",
       "    <tr>\n",
       "      <th>1</th>\n",
       "      <td>fit</td>\n",
       "      <td>34b</td>\n",
       "      <td>132.000000</td>\n",
       "      <td>10.0</td>\n",
       "      <td>other</td>\n",
       "      <td>straight &amp; narrow</td>\n",
       "      <td>gown</td>\n",
       "      <td>66.0</td>\n",
       "      <td>12</td>\n",
       "      <td>36.0</td>\n",
       "    </tr>\n",
       "    <tr>\n",
       "      <th>2</th>\n",
       "      <td>fit</td>\n",
       "      <td>34b</td>\n",
       "      <td>137.391709</td>\n",
       "      <td>10.0</td>\n",
       "      <td>party</td>\n",
       "      <td>hourglass</td>\n",
       "      <td>sheath</td>\n",
       "      <td>64.0</td>\n",
       "      <td>4</td>\n",
       "      <td>49.0</td>\n",
       "    </tr>\n",
       "    <tr>\n",
       "      <th>3</th>\n",
       "      <td>fit</td>\n",
       "      <td>34c</td>\n",
       "      <td>135.000000</td>\n",
       "      <td>8.0</td>\n",
       "      <td>formal affair</td>\n",
       "      <td>pear</td>\n",
       "      <td>dress</td>\n",
       "      <td>65.0</td>\n",
       "      <td>8</td>\n",
       "      <td>34.0</td>\n",
       "    </tr>\n",
       "    <tr>\n",
       "      <th>4</th>\n",
       "      <td>fit</td>\n",
       "      <td>34b</td>\n",
       "      <td>145.000000</td>\n",
       "      <td>10.0</td>\n",
       "      <td>wedding</td>\n",
       "      <td>athletic</td>\n",
       "      <td>gown</td>\n",
       "      <td>69.0</td>\n",
       "      <td>12</td>\n",
       "      <td>27.0</td>\n",
       "    </tr>\n",
       "  </tbody>\n",
       "</table>\n",
       "</div>"
      ],
      "text/plain": [
       "   fit bust size      weight  rating     rented for          body type  \\\n",
       "0  fit       34d  137.000000    10.0       vacation          hourglass   \n",
       "1  fit       34b  132.000000    10.0          other  straight & narrow   \n",
       "2  fit       34b  137.391709    10.0          party          hourglass   \n",
       "3  fit       34c  135.000000     8.0  formal affair               pear   \n",
       "4  fit       34b  145.000000    10.0        wedding           athletic   \n",
       "\n",
       "  category  height  size   age  \n",
       "0   romper    68.0    14  28.0  \n",
       "1     gown    66.0    12  36.0  \n",
       "2   sheath    64.0     4  49.0  \n",
       "3    dress    65.0     8  34.0  \n",
       "4     gown    69.0    12  27.0  "
      ]
     },
     "execution_count": 34,
     "metadata": {},
     "output_type": "execute_result"
    }
   ],
   "source": [
    "print(\"DATA without Outliers :\")\n",
    "df.head()"
   ]
  },
  {
   "cell_type": "code",
   "execution_count": 33,
   "id": "ecf20d43",
   "metadata": {},
   "outputs": [
    {
     "data": {
      "image/png": "[encoded data removed]",
      "text/plain": [
       "<Figure size 640x480 with 1 Axes>"
      ]
     },
     "metadata": {},
     "output_type": "display_data"
    }
   ],
   "source": [
    "sns.boxplot(x= df['age'])\n",
    "plt.title('Distribution of age')\n",
    "plt.show()"
   ]
  },
  {
   "cell_type": "markdown",
   "id": "6f403c6c",
   "metadata": {},
   "source": [
    "### 11. Check the distribution of the different categories in the column 'rented for' using appropriate plot. (2)\n"
   ]
  },
  {
   "cell_type": "code",
   "execution_count": 35,
   "id": "64a3bbb8",
   "metadata": {
    "scrolled": false
   },
   "outputs": [
    {
     "data": {
      "text/html": [
       "<div>\n",
       "<style scoped>\n",
       "    .dataframe tbody tr th:only-of-type {\n",
       "        vertical-align: middle;\n",
       "    }\n",
       "\n",
       "    .dataframe tbody tr th {\n",
       "        vertical-align: top;\n",
       "    }\n",
       "\n",
       "    .dataframe thead th {\n",
       "        text-align: right;\n",
       "    }\n",
       "</style>\n",
       "<table border=\"1\" class=\"dataframe\">\n",
       "  <thead>\n",
       "    <tr style=\"text-align: right;\">\n",
       "      <th></th>\n",
       "      <th>rented for</th>\n",
       "    </tr>\n",
       "  </thead>\n",
       "  <tbody>\n",
       "    <tr>\n",
       "      <th>0</th>\n",
       "      <td>vacation</td>\n",
       "    </tr>\n",
       "    <tr>\n",
       "      <th>1</th>\n",
       "      <td>other</td>\n",
       "    </tr>\n",
       "    <tr>\n",
       "      <th>2</th>\n",
       "      <td>party</td>\n",
       "    </tr>\n",
       "    <tr>\n",
       "      <th>3</th>\n",
       "      <td>formal affair</td>\n",
       "    </tr>\n",
       "    <tr>\n",
       "      <th>4</th>\n",
       "      <td>wedding</td>\n",
       "    </tr>\n",
       "    <tr>\n",
       "      <th>...</th>\n",
       "      <td>...</td>\n",
       "    </tr>\n",
       "    <tr>\n",
       "      <th>192539</th>\n",
       "      <td>work</td>\n",
       "    </tr>\n",
       "    <tr>\n",
       "      <th>192540</th>\n",
       "      <td>work</td>\n",
       "    </tr>\n",
       "    <tr>\n",
       "      <th>192541</th>\n",
       "      <td>everyday</td>\n",
       "    </tr>\n",
       "    <tr>\n",
       "      <th>192542</th>\n",
       "      <td>wedding</td>\n",
       "    </tr>\n",
       "    <tr>\n",
       "      <th>192543</th>\n",
       "      <td>wedding</td>\n",
       "    </tr>\n",
       "  </tbody>\n",
       "</table>\n",
       "<p>192544 rows × 1 columns</p>\n",
       "</div>"
      ],
      "text/plain": [
       "           rented for\n",
       "0            vacation\n",
       "1               other\n",
       "2               party\n",
       "3       formal affair\n",
       "4             wedding\n",
       "...               ...\n",
       "192539           work\n",
       "192540           work\n",
       "192541       everyday\n",
       "192542        wedding\n",
       "192543        wedding\n",
       "\n",
       "[192544 rows x 1 columns]"
      ]
     },
     "execution_count": 35,
     "metadata": {},
     "output_type": "execute_result"
    }
   ],
   "source": [
    "# checking column\n",
    "pd.DataFrame(df['rented for'])"
   ]
  },
  {
   "cell_type": "code",
   "execution_count": 39,
   "id": "735ac2b8",
   "metadata": {
    "scrolled": false
   },
   "outputs": [
    {
     "data": {
      "image/png": "[encoded data removed]",
      "text/plain": [
       "<Figure size 800x400 with 1 Axes>"
      ]
     },
     "metadata": {},
     "output_type": "display_data"
    }
   ],
   "source": [
    "#plotting the distribution using bar plot\n",
    "\n",
    "plt.figure(figsize=(8,4))\n",
    "rented_for = sns.countplot(x='rented for', data= df)\n",
    "plt.title(\"Rented For\")\n",
    "plt.xlabel(\"rented for\")\n",
    "plt.ylabel('count')\n",
    "plt.bar_label(rented_for.containers[0])\n",
    "plt.show()"
   ]
  },
  {
   "cell_type": "markdown",
   "id": "040bfedd",
   "metadata": {},
   "source": [
    "- From above shown plot , It is observed that -\n",
    "- customers rent outfits mostly for 'weddings' followed by 'formal affair' and 'party'\n",
    "- The number of customers who rented for weddings are 57794 which is highest of total categories\n",
    "- the least rented category is 'vacation'"
   ]
  },
  {
   "cell_type": "markdown",
   "id": "f5839bef",
   "metadata": {},
   "source": [
    "## ● Data Preparation for model building:"
   ]
  },
  {
   "cell_type": "markdown",
   "id": "e9b9ec6d",
   "metadata": {},
   "source": [
    "###  12. Encode the categorical variables in the dataset. (1)\n",
    "\n"
   ]
  },
  {
   "cell_type": "code",
   "execution_count": 40,
   "id": "524793ef",
   "metadata": {
    "scrolled": false
   },
   "outputs": [
    {
     "data": {
      "text/html": [
       "<div>\n",
       "<style scoped>\n",
       "    .dataframe tbody tr th:only-of-type {\n",
       "        vertical-align: middle;\n",
       "    }\n",
       "\n",
       "    .dataframe tbody tr th {\n",
       "        vertical-align: top;\n",
       "    }\n",
       "\n",
       "    .dataframe thead th {\n",
       "        text-align: right;\n",
       "    }\n",
       "</style>\n",
       "<table border=\"1\" class=\"dataframe\">\n",
       "  <thead>\n",
       "    <tr style=\"text-align: right;\">\n",
       "      <th></th>\n",
       "      <th>fit</th>\n",
       "      <th>bust size</th>\n",
       "      <th>rented for</th>\n",
       "      <th>body type</th>\n",
       "      <th>category</th>\n",
       "    </tr>\n",
       "  </thead>\n",
       "  <tbody>\n",
       "    <tr>\n",
       "      <th>0</th>\n",
       "      <td>fit</td>\n",
       "      <td>34d</td>\n",
       "      <td>vacation</td>\n",
       "      <td>hourglass</td>\n",
       "      <td>romper</td>\n",
       "    </tr>\n",
       "    <tr>\n",
       "      <th>1</th>\n",
       "      <td>fit</td>\n",
       "      <td>34b</td>\n",
       "      <td>other</td>\n",
       "      <td>straight &amp; narrow</td>\n",
       "      <td>gown</td>\n",
       "    </tr>\n",
       "    <tr>\n",
       "      <th>2</th>\n",
       "      <td>fit</td>\n",
       "      <td>34b</td>\n",
       "      <td>party</td>\n",
       "      <td>hourglass</td>\n",
       "      <td>sheath</td>\n",
       "    </tr>\n",
       "    <tr>\n",
       "      <th>3</th>\n",
       "      <td>fit</td>\n",
       "      <td>34c</td>\n",
       "      <td>formal affair</td>\n",
       "      <td>pear</td>\n",
       "      <td>dress</td>\n",
       "    </tr>\n",
       "    <tr>\n",
       "      <th>4</th>\n",
       "      <td>fit</td>\n",
       "      <td>34b</td>\n",
       "      <td>wedding</td>\n",
       "      <td>athletic</td>\n",
       "      <td>gown</td>\n",
       "    </tr>\n",
       "    <tr>\n",
       "      <th>...</th>\n",
       "      <td>...</td>\n",
       "      <td>...</td>\n",
       "      <td>...</td>\n",
       "      <td>...</td>\n",
       "      <td>...</td>\n",
       "    </tr>\n",
       "    <tr>\n",
       "      <th>192539</th>\n",
       "      <td>fit</td>\n",
       "      <td>34dd</td>\n",
       "      <td>work</td>\n",
       "      <td>hourglass</td>\n",
       "      <td>jumpsuit</td>\n",
       "    </tr>\n",
       "    <tr>\n",
       "      <th>192540</th>\n",
       "      <td>fit</td>\n",
       "      <td>32c</td>\n",
       "      <td>work</td>\n",
       "      <td>petite</td>\n",
       "      <td>dress</td>\n",
       "    </tr>\n",
       "    <tr>\n",
       "      <th>192541</th>\n",
       "      <td>fit</td>\n",
       "      <td>36a</td>\n",
       "      <td>everyday</td>\n",
       "      <td>straight &amp; narrow</td>\n",
       "      <td>dress</td>\n",
       "    </tr>\n",
       "    <tr>\n",
       "      <th>192542</th>\n",
       "      <td>fit</td>\n",
       "      <td>36c</td>\n",
       "      <td>wedding</td>\n",
       "      <td>pear</td>\n",
       "      <td>dress</td>\n",
       "    </tr>\n",
       "    <tr>\n",
       "      <th>192543</th>\n",
       "      <td>fit</td>\n",
       "      <td>36b</td>\n",
       "      <td>wedding</td>\n",
       "      <td>athletic</td>\n",
       "      <td>gown</td>\n",
       "    </tr>\n",
       "  </tbody>\n",
       "</table>\n",
       "<p>192544 rows × 5 columns</p>\n",
       "</div>"
      ],
      "text/plain": [
       "        fit bust size     rented for          body type  category\n",
       "0       fit       34d       vacation          hourglass    romper\n",
       "1       fit       34b          other  straight & narrow      gown\n",
       "2       fit       34b          party          hourglass    sheath\n",
       "3       fit       34c  formal affair               pear     dress\n",
       "4       fit       34b        wedding           athletic      gown\n",
       "...     ...       ...            ...                ...       ...\n",
       "192539  fit      34dd           work          hourglass  jumpsuit\n",
       "192540  fit       32c           work             petite     dress\n",
       "192541  fit       36a       everyday  straight & narrow     dress\n",
       "192542  fit       36c        wedding               pear     dress\n",
       "192543  fit       36b        wedding           athletic      gown\n",
       "\n",
       "[192544 rows x 5 columns]"
      ]
     },
     "execution_count": 40,
     "metadata": {},
     "output_type": "execute_result"
    }
   ],
   "source": [
    "# checking categorical columns\n",
    "df_cat = df.select_dtypes(include='object')\n",
    "df_cat"
   ]
  },
  {
   "cell_type": "code",
   "execution_count": 42,
   "id": "72f611d0",
   "metadata": {},
   "outputs": [],
   "source": [
    "le = LabelEncoder()\n",
    "for col in df_cat:\n",
    "    df[col] = le.fit_transform(df[col])\n",
    "    \n"
   ]
  },
  {
   "cell_type": "code",
   "execution_count": 44,
   "id": "cba2a51d",
   "metadata": {},
   "outputs": [
    {
     "data": {
      "text/html": [
       "<div>\n",
       "<style scoped>\n",
       "    .dataframe tbody tr th:only-of-type {\n",
       "        vertical-align: middle;\n",
       "    }\n",
       "\n",
       "    .dataframe tbody tr th {\n",
       "        vertical-align: top;\n",
       "    }\n",
       "\n",
       "    .dataframe thead th {\n",
       "        text-align: right;\n",
       "    }\n",
       "</style>\n",
       "<table border=\"1\" class=\"dataframe\">\n",
       "  <thead>\n",
       "    <tr style=\"text-align: right;\">\n",
       "      <th></th>\n",
       "      <th>fit</th>\n",
       "      <th>bust size</th>\n",
       "      <th>weight</th>\n",
       "      <th>rating</th>\n",
       "      <th>rented for</th>\n",
       "      <th>body type</th>\n",
       "      <th>category</th>\n",
       "      <th>height</th>\n",
       "      <th>size</th>\n",
       "      <th>age</th>\n",
       "    </tr>\n",
       "  </thead>\n",
       "  <tbody>\n",
       "    <tr>\n",
       "      <th>0</th>\n",
       "      <td>0</td>\n",
       "      <td>39</td>\n",
       "      <td>137.000000</td>\n",
       "      <td>10.0</td>\n",
       "      <td>5</td>\n",
       "      <td>3</td>\n",
       "      <td>44</td>\n",
       "      <td>68.0</td>\n",
       "      <td>14</td>\n",
       "      <td>28.0</td>\n",
       "    </tr>\n",
       "    <tr>\n",
       "      <th>1</th>\n",
       "      <td>0</td>\n",
       "      <td>37</td>\n",
       "      <td>132.000000</td>\n",
       "      <td>10.0</td>\n",
       "      <td>3</td>\n",
       "      <td>6</td>\n",
       "      <td>20</td>\n",
       "      <td>66.0</td>\n",
       "      <td>12</td>\n",
       "      <td>36.0</td>\n",
       "    </tr>\n",
       "    <tr>\n",
       "      <th>2</th>\n",
       "      <td>0</td>\n",
       "      <td>37</td>\n",
       "      <td>137.391709</td>\n",
       "      <td>10.0</td>\n",
       "      <td>4</td>\n",
       "      <td>3</td>\n",
       "      <td>45</td>\n",
       "      <td>64.0</td>\n",
       "      <td>4</td>\n",
       "      <td>49.0</td>\n",
       "    </tr>\n",
       "    <tr>\n",
       "      <th>3</th>\n",
       "      <td>0</td>\n",
       "      <td>38</td>\n",
       "      <td>135.000000</td>\n",
       "      <td>8.0</td>\n",
       "      <td>2</td>\n",
       "      <td>4</td>\n",
       "      <td>16</td>\n",
       "      <td>65.0</td>\n",
       "      <td>8</td>\n",
       "      <td>34.0</td>\n",
       "    </tr>\n",
       "    <tr>\n",
       "      <th>4</th>\n",
       "      <td>0</td>\n",
       "      <td>37</td>\n",
       "      <td>145.000000</td>\n",
       "      <td>10.0</td>\n",
       "      <td>6</td>\n",
       "      <td>1</td>\n",
       "      <td>20</td>\n",
       "      <td>69.0</td>\n",
       "      <td>12</td>\n",
       "      <td>27.0</td>\n",
       "    </tr>\n",
       "  </tbody>\n",
       "</table>\n",
       "</div>"
      ],
      "text/plain": [
       "   fit  bust size      weight  rating  rented for  body type  category  \\\n",
       "0    0         39  137.000000    10.0           5          3        44   \n",
       "1    0         37  132.000000    10.0           3          6        20   \n",
       "2    0         37  137.391709    10.0           4          3        45   \n",
       "3    0         38  135.000000     8.0           2          4        16   \n",
       "4    0         37  145.000000    10.0           6          1        20   \n",
       "\n",
       "   height  size   age  \n",
       "0    68.0    14  28.0  \n",
       "1    66.0    12  36.0  \n",
       "2    64.0     4  49.0  \n",
       "3    65.0     8  34.0  \n",
       "4    69.0    12  27.0  "
      ]
     },
     "execution_count": 44,
     "metadata": {},
     "output_type": "execute_result"
    }
   ],
   "source": [
    "df.head()"
   ]
  },
  {
   "cell_type": "code",
   "execution_count": 45,
   "id": "c5e08dad",
   "metadata": {},
   "outputs": [],
   "source": [
    "#copying dataset beforing scaling and certain no. of data because it's giving me memory error\n",
    "df_copy = df.copy()"
   ]
  },
  {
   "cell_type": "markdown",
   "id": "52c14be8",
   "metadata": {},
   "source": [
    "### 13. Standardize the data, so that the values are within a particular range. (1)"
   ]
  },
  {
   "cell_type": "code",
   "execution_count": 46,
   "id": "d6cab43c",
   "metadata": {},
   "outputs": [],
   "source": [
    "## Standardization\n",
    "sc = StandardScaler()\n",
    "scaled_features = sc.fit_transform(df_copy.values)\n",
    "scaled_features_df = pd.DataFrame(scaled_features, index=df_copy.index, columns=df_copy.columns)"
   ]
  },
  {
   "cell_type": "code",
   "execution_count": 47,
   "id": "d3472188",
   "metadata": {},
   "outputs": [
    {
     "data": {
      "text/html": [
       "<div>\n",
       "<style scoped>\n",
       "    .dataframe tbody tr th:only-of-type {\n",
       "        vertical-align: middle;\n",
       "    }\n",
       "\n",
       "    .dataframe tbody tr th {\n",
       "        vertical-align: top;\n",
       "    }\n",
       "\n",
       "    .dataframe thead th {\n",
       "        text-align: right;\n",
       "    }\n",
       "</style>\n",
       "<table border=\"1\" class=\"dataframe\">\n",
       "  <thead>\n",
       "    <tr style=\"text-align: right;\">\n",
       "      <th></th>\n",
       "      <th>fit</th>\n",
       "      <th>bust size</th>\n",
       "      <th>weight</th>\n",
       "      <th>rating</th>\n",
       "      <th>rented for</th>\n",
       "      <th>body type</th>\n",
       "      <th>category</th>\n",
       "      <th>height</th>\n",
       "      <th>size</th>\n",
       "      <th>age</th>\n",
       "    </tr>\n",
       "  </thead>\n",
       "  <tbody>\n",
       "    <tr>\n",
       "      <th>0</th>\n",
       "      <td>-0.556291</td>\n",
       "      <td>-0.004640</td>\n",
       "      <td>-1.946601e-02</td>\n",
       "      <td>0.634822</td>\n",
       "      <td>0.514420</td>\n",
       "      <td>0.020953</td>\n",
       "      <td>1.569310</td>\n",
       "      <td>1.011506</td>\n",
       "      <td>0.206575</td>\n",
       "      <td>-0.793484</td>\n",
       "    </tr>\n",
       "    <tr>\n",
       "      <th>1</th>\n",
       "      <td>-0.556291</td>\n",
       "      <td>-0.187210</td>\n",
       "      <td>-2.679414e-01</td>\n",
       "      <td>0.634822</td>\n",
       "      <td>-0.456753</td>\n",
       "      <td>1.927582</td>\n",
       "      <td>-0.307247</td>\n",
       "      <td>0.259283</td>\n",
       "      <td>-0.028862</td>\n",
       "      <td>0.357032</td>\n",
       "    </tr>\n",
       "    <tr>\n",
       "      <th>2</th>\n",
       "      <td>-0.556291</td>\n",
       "      <td>-0.187210</td>\n",
       "      <td>-1.412419e-15</td>\n",
       "      <td>0.634822</td>\n",
       "      <td>0.028833</td>\n",
       "      <td>0.020953</td>\n",
       "      <td>1.647500</td>\n",
       "      <td>-0.492940</td>\n",
       "      <td>-0.970608</td>\n",
       "      <td>2.226620</td>\n",
       "    </tr>\n",
       "    <tr>\n",
       "      <th>3</th>\n",
       "      <td>-0.556291</td>\n",
       "      <td>-0.095925</td>\n",
       "      <td>-1.188562e-01</td>\n",
       "      <td>-0.764037</td>\n",
       "      <td>-0.942340</td>\n",
       "      <td>0.656496</td>\n",
       "      <td>-0.620006</td>\n",
       "      <td>-0.116828</td>\n",
       "      <td>-0.499735</td>\n",
       "      <td>0.069403</td>\n",
       "    </tr>\n",
       "    <tr>\n",
       "      <th>4</th>\n",
       "      <td>-0.556291</td>\n",
       "      <td>-0.187210</td>\n",
       "      <td>3.780946e-01</td>\n",
       "      <td>0.634822</td>\n",
       "      <td>1.000007</td>\n",
       "      <td>-1.250132</td>\n",
       "      <td>-0.307247</td>\n",
       "      <td>1.387617</td>\n",
       "      <td>-0.028862</td>\n",
       "      <td>-0.937299</td>\n",
       "    </tr>\n",
       "  </tbody>\n",
       "</table>\n",
       "</div>"
      ],
      "text/plain": [
       "        fit  bust size        weight    rating  rented for  body type  \\\n",
       "0 -0.556291  -0.004640 -1.946601e-02  0.634822    0.514420   0.020953   \n",
       "1 -0.556291  -0.187210 -2.679414e-01  0.634822   -0.456753   1.927582   \n",
       "2 -0.556291  -0.187210 -1.412419e-15  0.634822    0.028833   0.020953   \n",
       "3 -0.556291  -0.095925 -1.188562e-01 -0.764037   -0.942340   0.656496   \n",
       "4 -0.556291  -0.187210  3.780946e-01  0.634822    1.000007  -1.250132   \n",
       "\n",
       "   category    height      size       age  \n",
       "0  1.569310  1.011506  0.206575 -0.793484  \n",
       "1 -0.307247  0.259283 -0.028862  0.357032  \n",
       "2  1.647500 -0.492940 -0.970608  2.226620  \n",
       "3 -0.620006 -0.116828 -0.499735  0.069403  \n",
       "4 -0.307247  1.387617 -0.028862 -0.937299  "
      ]
     },
     "execution_count": 47,
     "metadata": {},
     "output_type": "execute_result"
    }
   ],
   "source": [
    "scaled_features_df.head()"
   ]
  },
  {
   "cell_type": "markdown",
   "id": "c335854c",
   "metadata": {},
   "source": [
    "## ● Principal Component Analysis and Clustering:"
   ]
  },
  {
   "cell_type": "markdown",
   "id": "63292065",
   "metadata": {},
   "source": [
    "### 14. Apply PCA on the above dataset and determine the number of PCA components to be used so that 90-95% of the variance in data is explained by the same. (7)"
   ]
  },
  {
   "cell_type": "code",
   "execution_count": 48,
   "id": "e00aab85",
   "metadata": {
    "scrolled": false
   },
   "outputs": [
    {
     "name": "stdout",
     "output_type": "stream",
     "text": [
      "[[ 1.00000519e+00  9.05525666e-03  1.34138344e-02 -2.45017128e-01\n",
      "   8.35378787e-03 -7.61016810e-03  3.35892077e-04  1.56520435e-04\n",
      "   6.54006939e-02  8.67163272e-04]\n",
      " [ 9.05525666e-03  1.00000519e+00  5.74163260e-01 -2.09463072e-02\n",
      "  -2.07814670e-03 -2.15702411e-01 -1.09647683e-02  1.47029967e-01\n",
      "   6.27115858e-01  1.72328174e-01]\n",
      " [ 1.34138344e-02  5.74163260e-01  1.00000519e+00 -2.06828900e-02\n",
      "   9.91868005e-03 -2.35893510e-01 -1.48283310e-02  3.50844864e-01\n",
      "   7.32740552e-01  6.92435782e-02]\n",
      " [-2.45017128e-01 -2.09463072e-02 -2.06828900e-02  1.00000519e+00\n",
      "   1.28842617e-02  4.73487321e-03 -2.36044968e-02  1.74189843e-03\n",
      "  -3.67259761e-02 -4.13739940e-02]\n",
      " [ 8.35378787e-03 -2.07814670e-03  9.91868005e-03  1.28842617e-02\n",
      "   1.00000519e+00 -9.08626233e-03 -5.76351186e-02 -1.70417833e-02\n",
      "   4.87422452e-03 -3.73073385e-02]\n",
      " [-7.61016810e-03 -2.15702411e-01 -2.35893510e-01  4.73487321e-03\n",
      "  -9.08626233e-03  1.00000519e+00 -1.85295641e-03 -1.33606364e-01\n",
      "  -2.14155816e-01 -4.70891167e-02]\n",
      " [ 3.35892077e-04 -1.09647683e-02 -1.48283310e-02 -2.36044968e-02\n",
      "  -5.76351186e-02 -1.85295641e-03  1.00000519e+00 -4.32885440e-03\n",
      "  -5.62602705e-03  2.62505735e-02]\n",
      " [ 1.56520435e-04  1.47029967e-01  3.50844864e-01  1.74189843e-03\n",
      "  -1.70417833e-02 -1.33606364e-01 -4.32885440e-03  1.00000519e+00\n",
      "   2.28460110e-01 -4.99547389e-03]\n",
      " [ 6.54006939e-02  6.27115858e-01  7.32740552e-01 -3.67259761e-02\n",
      "   4.87422452e-03 -2.14155816e-01 -5.62602705e-03  2.28460110e-01\n",
      "   1.00000519e+00  1.58084784e-01]\n",
      " [ 8.67163272e-04  1.72328174e-01  6.92435782e-02 -4.13739940e-02\n",
      "  -3.73073385e-02 -4.70891167e-02  2.62505735e-02 -4.99547389e-03\n",
      "   1.58084784e-01  1.00000519e+00]]\n"
     ]
    }
   ],
   "source": [
    "## Calculating covariance matrix\n",
    "cov_matrices = np.cov(scaled_features_df.T)\n",
    "print(cov_matrices)"
   ]
  },
  {
   "cell_type": "code",
   "execution_count": 49,
   "id": "82b640aa",
   "metadata": {},
   "outputs": [
    {
     "name": "stdout",
     "output_type": "stream",
     "text": [
      "eigen values:  [2.56178657 0.24744002 0.41538331 1.24962785 0.75078491 1.08444447\n",
      " 1.01619028 0.83927314 0.94520597 0.88991541]\n",
      "\n",
      "eigen vectors:  [[-3.74896748e-02 -5.13203835e-02  3.77692240e-02 -6.85724708e-01\n",
      "  -6.89596896e-01  1.87789980e-01 -7.04079109e-02  8.85222690e-02\n",
      "  -2.65978703e-02 -2.44631881e-03]\n",
      " [-4.96014767e-01 -8.75107795e-02  7.93249422e-01  1.78310787e-02\n",
      "   5.10693179e-02 -7.37450391e-02  1.86071495e-01  2.39664150e-01\n",
      "   6.90766312e-03 -1.28813791e-01]\n",
      " [-5.44398655e-01 -6.80290316e-01 -4.37028662e-01  5.30840299e-02\n",
      "   3.95051022e-02  7.33686024e-02 -8.20403660e-02  5.16115248e-02\n",
      "  -1.04164313e-02 -1.74862077e-01]\n",
      " [ 3.66733705e-02 -7.14082744e-03 -2.46882554e-04  6.99940833e-01\n",
      "  -7.01319469e-01 -4.66032577e-02  3.84446579e-02  1.05350425e-01\n",
      "   2.28423405e-02 -3.95917146e-02]\n",
      " [ 1.60905073e-04  3.29519406e-03  1.46973520e-02  4.86541859e-02\n",
      "   2.21534860e-02  5.95702419e-01  3.78215342e-01 -2.18451032e-01\n",
      "   6.68901371e-01 -6.21046064e-02]\n",
      " [ 2.53202045e-01 -1.98013038e-02  2.74221568e-02 -4.83025630e-02\n",
      "  -4.28114105e-03 -5.42082460e-02  1.31634294e-01 -1.79576937e-01\n",
      "  -1.67403640e-01 -9.22960029e-01]\n",
      " [ 8.11416386e-03 -6.32941804e-03  7.04280936e-03 -9.51283788e-02\n",
      "  -4.21365198e-02 -5.59056000e-01 -3.77573808e-01  2.79882954e-02\n",
      "   7.14921156e-01 -1.48386007e-01]\n",
      " [-2.69998838e-01  1.13787469e-01  2.08284125e-01  9.91099333e-02\n",
      "  -7.03418869e-02  1.71950618e-01 -5.27471781e-01 -7.33047960e-01\n",
      "  -1.04145038e-01  1.00365175e-03]\n",
      " [-5.45606725e-01  7.13368649e-01 -3.56889969e-01 -1.84690812e-02\n",
      "  -1.57957949e-02 -1.02610792e-02  7.98698474e-02  1.49001089e-01\n",
      "   1.16018073e-03 -1.91755719e-01]\n",
      " [-1.41724494e-01 -6.76516549e-02 -8.10210598e-02 -1.13203052e-01\n",
      "  -1.44762964e-01 -5.01722987e-01  6.03878652e-01 -5.29763844e-01\n",
      "  -3.46662087e-02  1.91715688e-01]]\n"
     ]
    }
   ],
   "source": [
    "## Calculating eigen values and eigen vectors\n",
    "\n",
    "eig_vals, eig_vecs = np.linalg.eig(cov_matrices)\n",
    "print(\"eigen values: \", eig_vals)\n",
    "print(\"\\neigen vectors: \", eig_vecs)"
   ]
  },
  {
   "cell_type": "code",
   "execution_count": 50,
   "id": "954c799f",
   "metadata": {
    "scrolled": true
   },
   "outputs": [
    {
     "name": "stdout",
     "output_type": "stream",
     "text": [
      "variance explained : \n",
      "\n",
      " [25.617732627455325, 12.496213644979798, 10.844388364097204, 10.16185001894154, 9.452010625650555, 8.899107913272644, 8.392687843484389, 7.507810076479727, 4.153811497415668, 2.4743873882231435]\n",
      "\n",
      "Cummulative variance explained : \n",
      "\n",
      "  [ 25.61773263  38.11394627  48.95833464  59.12018466  68.57219528\n",
      "  77.47130319  85.86399104  93.37180111  97.52561261 100.        ]\n"
     ]
    }
   ],
   "source": [
    "#Calculating the variance explained \n",
    "total_eig_values = sum(eig_vals)\n",
    "var_exp = [(i/total_eig_values)*100 for i in sorted(eig_vals, reverse=True)]\n",
    "\n",
    "#calculating the cummulative variance explained\n",
    "cum_var_exp = np.cumsum(var_exp)\n",
    "print(\"variance explained : \\n\\n\", var_exp)\n",
    "print(\"\\nCummulative variance explained : \\n\\n \", cum_var_exp)"
   ]
  },
  {
   "cell_type": "code",
   "execution_count": 51,
   "id": "2c6cff71",
   "metadata": {},
   "outputs": [
    {
     "data": {
      "image/png": "[encoded data removed]",
      "text/plain": [
       "<Figure size 640x480 with 1 Axes>"
      ]
     },
     "metadata": {},
     "output_type": "display_data"
    }
   ],
   "source": [
    "## Scree plot\n",
    "\n",
    "plt.bar(range(10), var_exp, align='center',color='lightgreen',edgecolor='black',label='Indiviual Explained Varinace')\n",
    "plt.step(range(10), cum_var_exp, where='mid',color='red',label='Cummulative explained Variance')\n",
    "plt.legend(loc = 'best')\n",
    "plt.ylabel('Explained Variance Ratio')\n",
    "plt.xlabel('Principal Components')\n",
    "plt.tight_layout()\n",
    "plt.show()"
   ]
  },
  {
   "cell_type": "code",
   "execution_count": 52,
   "id": "fb2a5206",
   "metadata": {},
   "outputs": [
    {
     "data": {
      "text/html": [
       "<style>#sk-container-id-1 {color: black;background-color: white;}#sk-container-id-1 pre{padding: 0;}#sk-container-id-1 div.sk-toggleable {background-color: white;}#sk-container-id-1 label.sk-toggleable__label {cursor: pointer;display: block;width: 100%;margin-bottom: 0;padding: 0.3em;box-sizing: border-box;text-align: center;}#sk-container-id-1 label.sk-toggleable__label-arrow:before {content: \"▸\";float: left;margin-right: 0.25em;color: #696969;}#sk-container-id-1 label.sk-toggleable__label-arrow:hover:before {color: black;}#sk-container-id-1 div.sk-estimator:hover label.sk-toggleable__label-arrow:before {color: black;}#sk-container-id-1 div.sk-toggleable__content {max-height: 0;max-width: 0;overflow: hidden;text-align: left;background-color: #f0f8ff;}#sk-container-id-1 div.sk-toggleable__content pre {margin: 0.2em;color: black;border-radius: 0.25em;background-color: #f0f8ff;}#sk-container-id-1 input.sk-toggleable__control:checked~div.sk-toggleable__content {max-height: 200px;max-width: 100%;overflow: auto;}#sk-container-id-1 input.sk-toggleable__control:checked~label.sk-toggleable__label-arrow:before {content: \"▾\";}#sk-container-id-1 div.sk-estimator input.sk-toggleable__control:checked~label.sk-toggleable__label {background-color: #d4ebff;}#sk-container-id-1 div.sk-label input.sk-toggleable__control:checked~label.sk-toggleable__label {background-color: #d4ebff;}#sk-container-id-1 input.sk-hidden--visually {border: 0;clip: rect(1px 1px 1px 1px);clip: rect(1px, 1px, 1px, 1px);height: 1px;margin: -1px;overflow: hidden;padding: 0;position: absolute;width: 1px;}#sk-container-id-1 div.sk-estimator {font-family: monospace;background-color: #f0f8ff;border: 1px dotted black;border-radius: 0.25em;box-sizing: border-box;margin-bottom: 0.5em;}#sk-container-id-1 div.sk-estimator:hover {background-color: #d4ebff;}#sk-container-id-1 div.sk-parallel-item::after {content: \"\";width: 100%;border-bottom: 1px solid gray;flex-grow: 1;}#sk-container-id-1 div.sk-label:hover label.sk-toggleable__label {background-color: #d4ebff;}#sk-container-id-1 div.sk-serial::before {content: \"\";position: absolute;border-left: 1px solid gray;box-sizing: border-box;top: 0;bottom: 0;left: 50%;z-index: 0;}#sk-container-id-1 div.sk-serial {display: flex;flex-direction: column;align-items: center;background-color: white;padding-right: 0.2em;padding-left: 0.2em;position: relative;}#sk-container-id-1 div.sk-item {position: relative;z-index: 1;}#sk-container-id-1 div.sk-parallel {display: flex;align-items: stretch;justify-content: center;background-color: white;position: relative;}#sk-container-id-1 div.sk-item::before, #sk-container-id-1 div.sk-parallel-item::before {content: \"\";position: absolute;border-left: 1px solid gray;box-sizing: border-box;top: 0;bottom: 0;left: 50%;z-index: -1;}#sk-container-id-1 div.sk-parallel-item {display: flex;flex-direction: column;z-index: 1;position: relative;background-color: white;}#sk-container-id-1 div.sk-parallel-item:first-child::after {align-self: flex-end;width: 50%;}#sk-container-id-1 div.sk-parallel-item:last-child::after {align-self: flex-start;width: 50%;}#sk-container-id-1 div.sk-parallel-item:only-child::after {width: 0;}#sk-container-id-1 div.sk-dashed-wrapped {border: 1px dashed gray;margin: 0 0.4em 0.5em 0.4em;box-sizing: border-box;padding-bottom: 0.4em;background-color: white;}#sk-container-id-1 div.sk-label label {font-family: monospace;font-weight: bold;display: inline-block;line-height: 1.2em;}#sk-container-id-1 div.sk-label-container {text-align: center;}#sk-container-id-1 div.sk-container {/* jupyter's `normalize.less` sets `[hidden] { display: none; }` but bootstrap.min.css set `[hidden] { display: none !important; }` so we also need the `!important` here to be able to override the default hidden behavior on the sphinx rendered scikit-learn.org. See: https://github.com/scikit-learn/scikit-learn/issues/21755 */display: inline-block !important;position: relative;}#sk-container-id-1 div.sk-text-repr-fallback {display: none;}</style><div id=\"sk-container-id-1\" class=\"sk-top-container\"><div class=\"sk-text-repr-fallback\"><pre>PCA(n_components=8)</pre><b>In a Jupyter environment, please rerun this cell to show the HTML representation or trust the notebook. <br />On GitHub, the HTML representation is unable to render, please try loading this page with nbviewer.org.</b></div><div class=\"sk-container\" hidden><div class=\"sk-item\"><div class=\"sk-estimator sk-toggleable\"><input class=\"sk-toggleable__control sk-hidden--visually\" id=\"sk-estimator-id-1\" type=\"checkbox\" checked><label for=\"sk-estimator-id-1\" class=\"sk-toggleable__label sk-toggleable__label-arrow\">PCA</label><div class=\"sk-toggleable__content\"><pre>PCA(n_components=8)</pre></div></div></div></div></div>"
      ],
      "text/plain": [
       "PCA(n_components=8)"
      ]
     },
     "execution_count": 52,
     "metadata": {},
     "output_type": "execute_result"
    }
   ],
   "source": [
    "## Fitting the PCA model\n",
    "pca=PCA(n_components = 8)\n",
    "pca.fit(scaled_features_df)"
   ]
  },
  {
   "cell_type": "code",
   "execution_count": 53,
   "id": "a4301be9",
   "metadata": {},
   "outputs": [
    {
     "data": {
      "text/html": [
       "<div>\n",
       "<style scoped>\n",
       "    .dataframe tbody tr th:only-of-type {\n",
       "        vertical-align: middle;\n",
       "    }\n",
       "\n",
       "    .dataframe tbody tr th {\n",
       "        vertical-align: top;\n",
       "    }\n",
       "\n",
       "    .dataframe thead th {\n",
       "        text-align: right;\n",
       "    }\n",
       "</style>\n",
       "<table border=\"1\" class=\"dataframe\">\n",
       "  <thead>\n",
       "    <tr style=\"text-align: right;\">\n",
       "      <th></th>\n",
       "      <th>PC1</th>\n",
       "      <th>PC2</th>\n",
       "      <th>PC3</th>\n",
       "      <th>PC4</th>\n",
       "      <th>PC5</th>\n",
       "      <th>PC6</th>\n",
       "      <th>PC7</th>\n",
       "      <th>PC8</th>\n",
       "    </tr>\n",
       "  </thead>\n",
       "  <tbody>\n",
       "    <tr>\n",
       "      <th>0</th>\n",
       "      <td>0.198201</td>\n",
       "      <td>-0.885675</td>\n",
       "      <td>0.137245</td>\n",
       "      <td>1.327114</td>\n",
       "      <td>1.414393</td>\n",
       "      <td>0.494642</td>\n",
       "      <td>-0.347041</td>\n",
       "      <td>-0.076969</td>\n",
       "    </tr>\n",
       "    <tr>\n",
       "      <th>1</th>\n",
       "      <td>-0.663504</td>\n",
       "      <td>-0.707950</td>\n",
       "      <td>0.478966</td>\n",
       "      <td>-0.324248</td>\n",
       "      <td>-0.856483</td>\n",
       "      <td>1.583685</td>\n",
       "      <td>-0.679542</td>\n",
       "      <td>-0.156635</td>\n",
       "    </tr>\n",
       "    <tr>\n",
       "      <th>2</th>\n",
       "      <td>-0.502770</td>\n",
       "      <td>-0.383140</td>\n",
       "      <td>2.217198</td>\n",
       "      <td>-0.947447</td>\n",
       "      <td>1.194638</td>\n",
       "      <td>-0.347250</td>\n",
       "      <td>-0.954040</td>\n",
       "      <td>-0.412355</td>\n",
       "    </tr>\n",
       "    <tr>\n",
       "      <th>3</th>\n",
       "      <td>-0.560531</td>\n",
       "      <td>0.190123</td>\n",
       "      <td>0.370611</td>\n",
       "      <td>-0.029425</td>\n",
       "      <td>-1.176387</td>\n",
       "      <td>0.281630</td>\n",
       "      <td>-0.113837</td>\n",
       "      <td>0.918359</td>\n",
       "    </tr>\n",
       "    <tr>\n",
       "      <th>4</th>\n",
       "      <td>0.613777</td>\n",
       "      <td>-1.224965</td>\n",
       "      <td>-1.451900</td>\n",
       "      <td>0.972864</td>\n",
       "      <td>0.570536</td>\n",
       "      <td>-0.898769</td>\n",
       "      <td>-0.535219</td>\n",
       "      <td>0.022765</td>\n",
       "    </tr>\n",
       "  </tbody>\n",
       "</table>\n",
       "</div>"
      ],
      "text/plain": [
       "        PC1       PC2       PC3       PC4       PC5       PC6       PC7  \\\n",
       "0  0.198201 -0.885675  0.137245  1.327114  1.414393  0.494642 -0.347041   \n",
       "1 -0.663504 -0.707950  0.478966 -0.324248 -0.856483  1.583685 -0.679542   \n",
       "2 -0.502770 -0.383140  2.217198 -0.947447  1.194638 -0.347250 -0.954040   \n",
       "3 -0.560531  0.190123  0.370611 -0.029425 -1.176387  0.281630 -0.113837   \n",
       "4  0.613777 -1.224965 -1.451900  0.972864  0.570536 -0.898769 -0.535219   \n",
       "\n",
       "        PC8  \n",
       "0 -0.076969  \n",
       "1 -0.156635  \n",
       "2 -0.412355  \n",
       "3  0.918359  \n",
       "4  0.022765  "
      ]
     },
     "execution_count": 53,
     "metadata": {},
     "output_type": "execute_result"
    }
   ],
   "source": [
    "data_pca = pca.transform(scaled_features_df)\n",
    "data_pca = pd.DataFrame(data_pca,columns=['PC1','PC2','PC3','PC4','PC5','PC6','PC7','PC8'])\n",
    "data_pca.head()"
   ]
  },
  {
   "cell_type": "markdown",
   "id": "412a4323",
   "metadata": {},
   "source": [
    "### 15. Apply K-means clustering and segment the data. (You may use original data or PCA transformed data) (8)\n",
    "\n",
    "a. Find the optimal K Value using elbow plot for K Means clustering.\n",
    "\n",
    "b. Build a Kmeans clustering model using the obtained optimal K value from the elbow plot. \n",
    "\n",
    "c. Compute silhouette score for evaluating the quality of the K Means clustering technique."
   ]
  },
  {
   "cell_type": "code",
   "execution_count": 54,
   "id": "de4b25d3",
   "metadata": {
    "scrolled": false
   },
   "outputs": [
    {
     "data": {
      "text/html": [
       "<div>\n",
       "<style scoped>\n",
       "    .dataframe tbody tr th:only-of-type {\n",
       "        vertical-align: middle;\n",
       "    }\n",
       "\n",
       "    .dataframe tbody tr th {\n",
       "        vertical-align: top;\n",
       "    }\n",
       "\n",
       "    .dataframe thead th {\n",
       "        text-align: right;\n",
       "    }\n",
       "</style>\n",
       "<table border=\"1\" class=\"dataframe\">\n",
       "  <thead>\n",
       "    <tr style=\"text-align: right;\">\n",
       "      <th></th>\n",
       "      <th>num_clusters</th>\n",
       "      <th>cluster_errors</th>\n",
       "    </tr>\n",
       "  </thead>\n",
       "  <tbody>\n",
       "    <tr>\n",
       "      <th>0</th>\n",
       "      <td>1</td>\n",
       "      <td>1.797818e+06</td>\n",
       "    </tr>\n",
       "    <tr>\n",
       "      <th>1</th>\n",
       "      <td>2</td>\n",
       "      <td>1.496636e+06</td>\n",
       "    </tr>\n",
       "    <tr>\n",
       "      <th>2</th>\n",
       "      <td>3</td>\n",
       "      <td>1.358796e+06</td>\n",
       "    </tr>\n",
       "    <tr>\n",
       "      <th>3</th>\n",
       "      <td>4</td>\n",
       "      <td>1.249634e+06</td>\n",
       "    </tr>\n",
       "    <tr>\n",
       "      <th>4</th>\n",
       "      <td>5</td>\n",
       "      <td>1.155518e+06</td>\n",
       "    </tr>\n",
       "    <tr>\n",
       "      <th>5</th>\n",
       "      <td>6</td>\n",
       "      <td>1.095886e+06</td>\n",
       "    </tr>\n",
       "    <tr>\n",
       "      <th>6</th>\n",
       "      <td>7</td>\n",
       "      <td>1.041171e+06</td>\n",
       "    </tr>\n",
       "    <tr>\n",
       "      <th>7</th>\n",
       "      <td>8</td>\n",
       "      <td>9.928005e+05</td>\n",
       "    </tr>\n",
       "    <tr>\n",
       "      <th>8</th>\n",
       "      <td>9</td>\n",
       "      <td>9.597238e+05</td>\n",
       "    </tr>\n",
       "  </tbody>\n",
       "</table>\n",
       "</div>"
      ],
      "text/plain": [
       "   num_clusters  cluster_errors\n",
       "0             1    1.797818e+06\n",
       "1             2    1.496636e+06\n",
       "2             3    1.358796e+06\n",
       "3             4    1.249634e+06\n",
       "4             5    1.155518e+06\n",
       "5             6    1.095886e+06\n",
       "6             7    1.041171e+06\n",
       "7             8    9.928005e+05\n",
       "8             9    9.597238e+05"
      ]
     },
     "execution_count": 54,
     "metadata": {},
     "output_type": "execute_result"
    }
   ],
   "source": [
    "cluster_range = range(1,10)\n",
    "cluster_errors = []\n",
    "\n",
    "for num_clusters in cluster_range:\n",
    "   \n",
    "    clusters = KMeans(num_clusters, n_init=9)\n",
    "    clusters.fit(data_pca)\n",
    "    \n",
    "    labels = clusters.labels_\n",
    "    centroids = clusters.cluster_centers_\n",
    "    \n",
    "    cluster_errors.append(clusters.inertia_)\n",
    "\n",
    "clusters_df = pd.DataFrame({'num_clusters':cluster_range, \n",
    "                           'cluster_errors':cluster_errors})\n",
    "\n",
    "clusters_df"
   ]
  },
  {
   "cell_type": "code",
   "execution_count": 55,
   "id": "042ac37e",
   "metadata": {},
   "outputs": [
    {
     "data": {
      "image/png": "[encoded data removed]",
      "text/plain": [
       "<Figure size 1000x600 with 1 Axes>"
      ]
     },
     "metadata": {},
     "output_type": "display_data"
    }
   ],
   "source": [
    "## Elbow method\n",
    "plt.figure(figsize=[10,6])\n",
    "plt.title('The Elbow Method')\n",
    "plt.xlabel('Number of clusters using PCA')\n",
    "plt.plot(clusters_df['num_clusters'],clusters_df['cluster_errors'],marker='o',color='b')\n",
    "plt.show()"
   ]
  },
  {
   "cell_type": "code",
   "execution_count": 56,
   "id": "b8d45ad7",
   "metadata": {},
   "outputs": [
    {
     "data": {
      "text/html": [
       "<style>#sk-container-id-2 {color: black;background-color: white;}#sk-container-id-2 pre{padding: 0;}#sk-container-id-2 div.sk-toggleable {background-color: white;}#sk-container-id-2 label.sk-toggleable__label {cursor: pointer;display: block;width: 100%;margin-bottom: 0;padding: 0.3em;box-sizing: border-box;text-align: center;}#sk-container-id-2 label.sk-toggleable__label-arrow:before {content: \"▸\";float: left;margin-right: 0.25em;color: #696969;}#sk-container-id-2 label.sk-toggleable__label-arrow:hover:before {color: black;}#sk-container-id-2 div.sk-estimator:hover label.sk-toggleable__label-arrow:before {color: black;}#sk-container-id-2 div.sk-toggleable__content {max-height: 0;max-width: 0;overflow: hidden;text-align: left;background-color: #f0f8ff;}#sk-container-id-2 div.sk-toggleable__content pre {margin: 0.2em;color: black;border-radius: 0.25em;background-color: #f0f8ff;}#sk-container-id-2 input.sk-toggleable__control:checked~div.sk-toggleable__content {max-height: 200px;max-width: 100%;overflow: auto;}#sk-container-id-2 input.sk-toggleable__control:checked~label.sk-toggleable__label-arrow:before {content: \"▾\";}#sk-container-id-2 div.sk-estimator input.sk-toggleable__control:checked~label.sk-toggleable__label {background-color: #d4ebff;}#sk-container-id-2 div.sk-label input.sk-toggleable__control:checked~label.sk-toggleable__label {background-color: #d4ebff;}#sk-container-id-2 input.sk-hidden--visually {border: 0;clip: rect(1px 1px 1px 1px);clip: rect(1px, 1px, 1px, 1px);height: 1px;margin: -1px;overflow: hidden;padding: 0;position: absolute;width: 1px;}#sk-container-id-2 div.sk-estimator {font-family: monospace;background-color: #f0f8ff;border: 1px dotted black;border-radius: 0.25em;box-sizing: border-box;margin-bottom: 0.5em;}#sk-container-id-2 div.sk-estimator:hover {background-color: #d4ebff;}#sk-container-id-2 div.sk-parallel-item::after {content: \"\";width: 100%;border-bottom: 1px solid gray;flex-grow: 1;}#sk-container-id-2 div.sk-label:hover label.sk-toggleable__label {background-color: #d4ebff;}#sk-container-id-2 div.sk-serial::before {content: \"\";position: absolute;border-left: 1px solid gray;box-sizing: border-box;top: 0;bottom: 0;left: 50%;z-index: 0;}#sk-container-id-2 div.sk-serial {display: flex;flex-direction: column;align-items: center;background-color: white;padding-right: 0.2em;padding-left: 0.2em;position: relative;}#sk-container-id-2 div.sk-item {position: relative;z-index: 1;}#sk-container-id-2 div.sk-parallel {display: flex;align-items: stretch;justify-content: center;background-color: white;position: relative;}#sk-container-id-2 div.sk-item::before, #sk-container-id-2 div.sk-parallel-item::before {content: \"\";position: absolute;border-left: 1px solid gray;box-sizing: border-box;top: 0;bottom: 0;left: 50%;z-index: -1;}#sk-container-id-2 div.sk-parallel-item {display: flex;flex-direction: column;z-index: 1;position: relative;background-color: white;}#sk-container-id-2 div.sk-parallel-item:first-child::after {align-self: flex-end;width: 50%;}#sk-container-id-2 div.sk-parallel-item:last-child::after {align-self: flex-start;width: 50%;}#sk-container-id-2 div.sk-parallel-item:only-child::after {width: 0;}#sk-container-id-2 div.sk-dashed-wrapped {border: 1px dashed gray;margin: 0 0.4em 0.5em 0.4em;box-sizing: border-box;padding-bottom: 0.4em;background-color: white;}#sk-container-id-2 div.sk-label label {font-family: monospace;font-weight: bold;display: inline-block;line-height: 1.2em;}#sk-container-id-2 div.sk-label-container {text-align: center;}#sk-container-id-2 div.sk-container {/* jupyter's `normalize.less` sets `[hidden] { display: none; }` but bootstrap.min.css set `[hidden] { display: none !important; }` so we also need the `!important` here to be able to override the default hidden behavior on the sphinx rendered scikit-learn.org. See: https://github.com/scikit-learn/scikit-learn/issues/21755 */display: inline-block !important;position: relative;}#sk-container-id-2 div.sk-text-repr-fallback {display: none;}</style><div id=\"sk-container-id-2\" class=\"sk-top-container\"><div class=\"sk-text-repr-fallback\"><pre>KMeans(n_clusters=2, n_init=10, random_state=2345)</pre><b>In a Jupyter environment, please rerun this cell to show the HTML representation or trust the notebook. <br />On GitHub, the HTML representation is unable to render, please try loading this page with nbviewer.org.</b></div><div class=\"sk-container\" hidden><div class=\"sk-item\"><div class=\"sk-estimator sk-toggleable\"><input class=\"sk-toggleable__control sk-hidden--visually\" id=\"sk-estimator-id-2\" type=\"checkbox\" checked><label for=\"sk-estimator-id-2\" class=\"sk-toggleable__label sk-toggleable__label-arrow\">KMeans</label><div class=\"sk-toggleable__content\"><pre>KMeans(n_clusters=2, n_init=10, random_state=2345)</pre></div></div></div></div></div>"
      ],
      "text/plain": [
       "KMeans(n_clusters=2, n_init=10, random_state=2345)"
      ]
     },
     "execution_count": 56,
     "metadata": {},
     "output_type": "execute_result"
    }
   ],
   "source": [
    "## Fit the KMeans clustering model using the obtained optimal K\n",
    "kmeans = KMeans(n_clusters=2, n_init=10, random_state=2345)\n",
    "kmeans.fit(data_pca)"
   ]
  },
  {
   "cell_type": "code",
   "execution_count": 57,
   "id": "9f633c67",
   "metadata": {},
   "outputs": [
    {
     "data": {
      "text/plain": [
       "array([1, 1, 1, ..., 1, 0, 0])"
      ]
     },
     "execution_count": 57,
     "metadata": {},
     "output_type": "execute_result"
    }
   ],
   "source": [
    "## obtained labels from kmeans clustering\n",
    "kmeans.labels_"
   ]
  },
  {
   "cell_type": "code",
   "execution_count": 58,
   "id": "c0bcbc9a",
   "metadata": {
    "scrolled": true
   },
   "outputs": [
    {
     "data": {
      "text/html": [
       "<div>\n",
       "<style scoped>\n",
       "    .dataframe tbody tr th:only-of-type {\n",
       "        vertical-align: middle;\n",
       "    }\n",
       "\n",
       "    .dataframe tbody tr th {\n",
       "        vertical-align: top;\n",
       "    }\n",
       "\n",
       "    .dataframe thead th {\n",
       "        text-align: right;\n",
       "    }\n",
       "</style>\n",
       "<table border=\"1\" class=\"dataframe\">\n",
       "  <thead>\n",
       "    <tr style=\"text-align: right;\">\n",
       "      <th></th>\n",
       "      <th>Labels</th>\n",
       "    </tr>\n",
       "  </thead>\n",
       "  <tbody>\n",
       "    <tr>\n",
       "      <th>0</th>\n",
       "      <td>1</td>\n",
       "    </tr>\n",
       "    <tr>\n",
       "      <th>1</th>\n",
       "      <td>1</td>\n",
       "    </tr>\n",
       "    <tr>\n",
       "      <th>2</th>\n",
       "      <td>1</td>\n",
       "    </tr>\n",
       "    <tr>\n",
       "      <th>3</th>\n",
       "      <td>1</td>\n",
       "    </tr>\n",
       "    <tr>\n",
       "      <th>4</th>\n",
       "      <td>0</td>\n",
       "    </tr>\n",
       "  </tbody>\n",
       "</table>\n",
       "</div>"
      ],
      "text/plain": [
       "   Labels\n",
       "0       1\n",
       "1       1\n",
       "2       1\n",
       "3       1\n",
       "4       0"
      ]
     },
     "execution_count": 58,
     "metadata": {},
     "output_type": "execute_result"
    }
   ],
   "source": [
    "## Creating a new dataframe only for labels.\n",
    "df_labels = pd.DataFrame(kmeans.labels_, columns=list(['Labels']))\n",
    "df_labels.head(5)"
   ]
  },
  {
   "cell_type": "code",
   "execution_count": 59,
   "id": "1304b812",
   "metadata": {},
   "outputs": [
    {
     "data": {
      "text/html": [
       "<div>\n",
       "<style scoped>\n",
       "    .dataframe tbody tr th:only-of-type {\n",
       "        vertical-align: middle;\n",
       "    }\n",
       "\n",
       "    .dataframe tbody tr th {\n",
       "        vertical-align: top;\n",
       "    }\n",
       "\n",
       "    .dataframe thead th {\n",
       "        text-align: right;\n",
       "    }\n",
       "</style>\n",
       "<table border=\"1\" class=\"dataframe\">\n",
       "  <thead>\n",
       "    <tr style=\"text-align: right;\">\n",
       "      <th></th>\n",
       "      <th>PC1</th>\n",
       "      <th>PC2</th>\n",
       "      <th>PC3</th>\n",
       "      <th>PC4</th>\n",
       "      <th>PC5</th>\n",
       "      <th>PC6</th>\n",
       "      <th>PC7</th>\n",
       "      <th>PC8</th>\n",
       "      <th>Labels</th>\n",
       "    </tr>\n",
       "  </thead>\n",
       "  <tbody>\n",
       "    <tr>\n",
       "      <th>0</th>\n",
       "      <td>0.198201</td>\n",
       "      <td>-0.885675</td>\n",
       "      <td>0.137245</td>\n",
       "      <td>1.327114</td>\n",
       "      <td>1.414393</td>\n",
       "      <td>0.494642</td>\n",
       "      <td>-0.347041</td>\n",
       "      <td>-0.076969</td>\n",
       "      <td>1</td>\n",
       "    </tr>\n",
       "    <tr>\n",
       "      <th>1</th>\n",
       "      <td>-0.663504</td>\n",
       "      <td>-0.707950</td>\n",
       "      <td>0.478966</td>\n",
       "      <td>-0.324248</td>\n",
       "      <td>-0.856483</td>\n",
       "      <td>1.583685</td>\n",
       "      <td>-0.679542</td>\n",
       "      <td>-0.156635</td>\n",
       "      <td>1</td>\n",
       "    </tr>\n",
       "    <tr>\n",
       "      <th>2</th>\n",
       "      <td>-0.502770</td>\n",
       "      <td>-0.383140</td>\n",
       "      <td>2.217198</td>\n",
       "      <td>-0.947447</td>\n",
       "      <td>1.194638</td>\n",
       "      <td>-0.347250</td>\n",
       "      <td>-0.954040</td>\n",
       "      <td>-0.412355</td>\n",
       "      <td>1</td>\n",
       "    </tr>\n",
       "    <tr>\n",
       "      <th>3</th>\n",
       "      <td>-0.560531</td>\n",
       "      <td>0.190123</td>\n",
       "      <td>0.370611</td>\n",
       "      <td>-0.029425</td>\n",
       "      <td>-1.176387</td>\n",
       "      <td>0.281630</td>\n",
       "      <td>-0.113837</td>\n",
       "      <td>0.918359</td>\n",
       "      <td>1</td>\n",
       "    </tr>\n",
       "    <tr>\n",
       "      <th>4</th>\n",
       "      <td>0.613777</td>\n",
       "      <td>-1.224965</td>\n",
       "      <td>-1.451900</td>\n",
       "      <td>0.972864</td>\n",
       "      <td>0.570536</td>\n",
       "      <td>-0.898769</td>\n",
       "      <td>-0.535219</td>\n",
       "      <td>0.022765</td>\n",
       "      <td>0</td>\n",
       "    </tr>\n",
       "  </tbody>\n",
       "</table>\n",
       "</div>"
      ],
      "text/plain": [
       "        PC1       PC2       PC3       PC4       PC5       PC6       PC7  \\\n",
       "0  0.198201 -0.885675  0.137245  1.327114  1.414393  0.494642 -0.347041   \n",
       "1 -0.663504 -0.707950  0.478966 -0.324248 -0.856483  1.583685 -0.679542   \n",
       "2 -0.502770 -0.383140  2.217198 -0.947447  1.194638 -0.347250 -0.954040   \n",
       "3 -0.560531  0.190123  0.370611 -0.029425 -1.176387  0.281630 -0.113837   \n",
       "4  0.613777 -1.224965 -1.451900  0.972864  0.570536 -0.898769 -0.535219   \n",
       "\n",
       "        PC8  Labels  \n",
       "0 -0.076969       1  \n",
       "1 -0.156635       1  \n",
       "2 -0.412355       1  \n",
       "3  0.918359       1  \n",
       "4  0.022765       0  "
      ]
     },
     "execution_count": 59,
     "metadata": {},
     "output_type": "execute_result"
    }
   ],
   "source": [
    "kmeans_df = data_pca.join(df_labels)\n",
    "kmeans_df.head()"
   ]
  },
  {
   "cell_type": "code",
   "execution_count": 60,
   "id": "03d5ac31",
   "metadata": {
    "scrolled": false
   },
   "outputs": [
    {
     "data": {
      "text/plain": [
       "1    60.330626\n",
       "0    39.669374\n",
       "Name: Labels, dtype: float64"
      ]
     },
     "execution_count": 60,
     "metadata": {},
     "output_type": "execute_result"
    }
   ],
   "source": [
    "kmeans_df[\"Labels\"].value_counts(normalize=True)*100"
   ]
  },
  {
   "cell_type": "code",
   "execution_count": 68,
   "id": "e46e10b0",
   "metadata": {},
   "outputs": [
    {
     "data": {
      "image/png": "[encoded data removed]",
      "text/plain": [
       "<Figure size 640x480 with 1 Axes>"
      ]
     },
     "metadata": {},
     "output_type": "display_data"
    }
   ],
   "source": [
    "sns.scatterplot( x=kmeans_df['PC1'], y=kmeans_df['PC2'], hue='Labels' , data=kmeans_df)\n",
    "plt.show()"
   ]
  },
  {
   "cell_type": "code",
   "execution_count": 69,
   "id": "e3e1b644",
   "metadata": {
    "scrolled": false
   },
   "outputs": [
    {
     "name": "stdout",
     "output_type": "stream",
     "text": [
      "2 0.16120489134486196\n",
      "3 0.16125200023155098\n",
      "4 0.12637749585107613\n",
      "5 0.1339691451428127\n",
      "6 0.11972826465121028\n",
      "7 0.12712498222440202\n",
      "8 0.12653712219605895\n",
      "9 0.11502951015870484\n"
     ]
    }
   ],
   "source": [
    "# Compute silhouette score for evaluating the quality of the K Means clustering technique.\n",
    "from sklearn.metrics import silhouette_score\n",
    "\n",
    "kmeans_score = []\n",
    "\n",
    "for i in range(2,10):\n",
    "    kmeans = KMeans(n_clusters=i)\n",
    "    kmeans = kmeans.fit(data_pca)\n",
    "    labels = kmeans.predict(data_pca)\n",
    "    print(i,silhouette_score(data_pca,labels))"
   ]
  },
  {
   "cell_type": "markdown",
   "id": "2cb99980",
   "metadata": {},
   "source": [
    "- highest silhoutte score - 0.161252 (3rd cluster)\n",
    "- Choosing k= 3 as the optimal cluster size and building an agglomerative clustering model using the original scaled dataset"
   ]
  },
  {
   "cell_type": "markdown",
   "id": "81241f2f",
   "metadata": {},
   "source": [
    "### 16. Apply Agglomerative clustering and segment the data. (You may use original data or PCA transformed data)\n",
    "\n",
    "a. Find the optimal K Value using dendrogram for Agglomerative clustering.\n",
    "\n",
    "b. Build a Agglomerative clustering model using the obtained optimal K value observed from dendrogram. \n",
    "\n",
    "c. Compute silhouette score for evaluating the quality of the Agglomerative clustering technique. (Hint: Take a sample of the dataset for agglomerative clustering to reduce the computational time)"
   ]
  },
  {
   "cell_type": "code",
   "execution_count": 72,
   "id": "62ee05fe",
   "metadata": {},
   "outputs": [],
   "source": [
    "scaled_features_sample = scaled_features[:10000:]"
   ]
  },
  {
   "cell_type": "code",
   "execution_count": 73,
   "id": "ffd137ed",
   "metadata": {},
   "outputs": [
    {
     "data": {
      "image/png": "[encoded data removed]",
      "text/plain": [
       "<Figure size 1800x500 with 1 Axes>"
      ]
     },
     "metadata": {},
     "output_type": "display_data"
    }
   ],
   "source": [
    "plt.figure(figsize=[18,5])\n",
    "merg = linkage(scaled_features_sample, method='ward')\n",
    "dendrogram(merg, leaf_rotation=90,)\n",
    "plt.xlabel('Datapoints')\n",
    "plt.ylabel('Euclidean distance')\n",
    "plt.show()"
   ]
  },
  {
   "cell_type": "code",
   "execution_count": 76,
   "id": "1255d539",
   "metadata": {},
   "outputs": [
    {
     "name": "stdout",
     "output_type": "stream",
     "text": [
      "2 0.11021987302788257\n",
      "3 0.10296320803147442\n",
      "4 0.1074524934018275\n",
      "5 0.07538949667509687\n",
      "6 0.07535642207652865\n",
      "7 0.08563408439744888\n",
      "8 0.07658037408483105\n",
      "9 0.06030391799182885\n",
      "10 0.06514445866875349\n",
      "11 0.06473408160765332\n",
      "12 0.07019356456144926\n",
      "13 0.061090607562315685\n",
      "14 0.06059762085593293\n"
     ]
    }
   ],
   "source": [
    " \n",
    "for i in range(2,15):\n",
    "    hier = AgglomerativeClustering(n_clusters=i)\n",
    "    hier = hier.fit(data_pca.head(10000))\n",
    "    labels = hier.fit_predict(data_pca.head(10000))\n",
    "    print(i,silhouette_score(data_pca.head(10000),labels))"
   ]
  },
  {
   "cell_type": "code",
   "execution_count": 78,
   "id": "40a75b6e",
   "metadata": {},
   "outputs": [],
   "source": [
    "hie_cluster = AgglomerativeClustering(n_clusters=2, affinity='euclidean', linkage='ward')\n",
    "hie_cluster_model = hie_cluster.fit(data_pca.head(10000))"
   ]
  },
  {
   "cell_type": "code",
   "execution_count": 80,
   "id": "72927b2d",
   "metadata": {},
   "outputs": [
    {
     "data": {
      "text/html": [
       "<div>\n",
       "<style scoped>\n",
       "    .dataframe tbody tr th:only-of-type {\n",
       "        vertical-align: middle;\n",
       "    }\n",
       "\n",
       "    .dataframe tbody tr th {\n",
       "        vertical-align: top;\n",
       "    }\n",
       "\n",
       "    .dataframe thead th {\n",
       "        text-align: right;\n",
       "    }\n",
       "</style>\n",
       "<table border=\"1\" class=\"dataframe\">\n",
       "  <thead>\n",
       "    <tr style=\"text-align: right;\">\n",
       "      <th></th>\n",
       "      <th>Labels</th>\n",
       "    </tr>\n",
       "  </thead>\n",
       "  <tbody>\n",
       "    <tr>\n",
       "      <th>0</th>\n",
       "      <td>0</td>\n",
       "    </tr>\n",
       "    <tr>\n",
       "      <th>1</th>\n",
       "      <td>0</td>\n",
       "    </tr>\n",
       "    <tr>\n",
       "      <th>2</th>\n",
       "      <td>0</td>\n",
       "    </tr>\n",
       "    <tr>\n",
       "      <th>3</th>\n",
       "      <td>0</td>\n",
       "    </tr>\n",
       "    <tr>\n",
       "      <th>4</th>\n",
       "      <td>0</td>\n",
       "    </tr>\n",
       "  </tbody>\n",
       "</table>\n",
       "</div>"
      ],
      "text/plain": [
       "   Labels\n",
       "0       0\n",
       "1       0\n",
       "2       0\n",
       "3       0\n",
       "4       0"
      ]
     },
     "execution_count": 80,
     "metadata": {},
     "output_type": "execute_result"
    }
   ],
   "source": [
    "df_label = pd.DataFrame(hie_cluster_model.labels_, columns=['Labels'])\n",
    "df_label.head()"
   ]
  },
  {
   "cell_type": "code",
   "execution_count": 81,
   "id": "e8558cc0",
   "metadata": {},
   "outputs": [
    {
     "data": {
      "text/html": [
       "<div>\n",
       "<style scoped>\n",
       "    .dataframe tbody tr th:only-of-type {\n",
       "        vertical-align: middle;\n",
       "    }\n",
       "\n",
       "    .dataframe tbody tr th {\n",
       "        vertical-align: top;\n",
       "    }\n",
       "\n",
       "    .dataframe thead th {\n",
       "        text-align: right;\n",
       "    }\n",
       "</style>\n",
       "<table border=\"1\" class=\"dataframe\">\n",
       "  <thead>\n",
       "    <tr style=\"text-align: right;\">\n",
       "      <th></th>\n",
       "      <th>fit</th>\n",
       "      <th>bust size</th>\n",
       "      <th>weight</th>\n",
       "      <th>rating</th>\n",
       "      <th>rented for</th>\n",
       "      <th>body type</th>\n",
       "      <th>category</th>\n",
       "      <th>height</th>\n",
       "      <th>size</th>\n",
       "      <th>age</th>\n",
       "      <th>Labels</th>\n",
       "    </tr>\n",
       "  </thead>\n",
       "  <tbody>\n",
       "    <tr>\n",
       "      <th>0</th>\n",
       "      <td>0</td>\n",
       "      <td>39</td>\n",
       "      <td>137.000000</td>\n",
       "      <td>10.0</td>\n",
       "      <td>5</td>\n",
       "      <td>3</td>\n",
       "      <td>44</td>\n",
       "      <td>68.0</td>\n",
       "      <td>14</td>\n",
       "      <td>28.0</td>\n",
       "      <td>0.0</td>\n",
       "    </tr>\n",
       "    <tr>\n",
       "      <th>1</th>\n",
       "      <td>0</td>\n",
       "      <td>37</td>\n",
       "      <td>132.000000</td>\n",
       "      <td>10.0</td>\n",
       "      <td>3</td>\n",
       "      <td>6</td>\n",
       "      <td>20</td>\n",
       "      <td>66.0</td>\n",
       "      <td>12</td>\n",
       "      <td>36.0</td>\n",
       "      <td>0.0</td>\n",
       "    </tr>\n",
       "    <tr>\n",
       "      <th>2</th>\n",
       "      <td>0</td>\n",
       "      <td>37</td>\n",
       "      <td>137.391709</td>\n",
       "      <td>10.0</td>\n",
       "      <td>4</td>\n",
       "      <td>3</td>\n",
       "      <td>45</td>\n",
       "      <td>64.0</td>\n",
       "      <td>4</td>\n",
       "      <td>49.0</td>\n",
       "      <td>0.0</td>\n",
       "    </tr>\n",
       "    <tr>\n",
       "      <th>3</th>\n",
       "      <td>0</td>\n",
       "      <td>38</td>\n",
       "      <td>135.000000</td>\n",
       "      <td>8.0</td>\n",
       "      <td>2</td>\n",
       "      <td>4</td>\n",
       "      <td>16</td>\n",
       "      <td>65.0</td>\n",
       "      <td>8</td>\n",
       "      <td>34.0</td>\n",
       "      <td>0.0</td>\n",
       "    </tr>\n",
       "    <tr>\n",
       "      <th>4</th>\n",
       "      <td>0</td>\n",
       "      <td>37</td>\n",
       "      <td>145.000000</td>\n",
       "      <td>10.0</td>\n",
       "      <td>6</td>\n",
       "      <td>1</td>\n",
       "      <td>20</td>\n",
       "      <td>69.0</td>\n",
       "      <td>12</td>\n",
       "      <td>27.0</td>\n",
       "      <td>0.0</td>\n",
       "    </tr>\n",
       "  </tbody>\n",
       "</table>\n",
       "</div>"
      ],
      "text/plain": [
       "   fit  bust size      weight  rating  rented for  body type  category  \\\n",
       "0    0         39  137.000000    10.0           5          3        44   \n",
       "1    0         37  132.000000    10.0           3          6        20   \n",
       "2    0         37  137.391709    10.0           4          3        45   \n",
       "3    0         38  135.000000     8.0           2          4        16   \n",
       "4    0         37  145.000000    10.0           6          1        20   \n",
       "\n",
       "   height  size   age  Labels  \n",
       "0    68.0    14  28.0     0.0  \n",
       "1    66.0    12  36.0     0.0  \n",
       "2    64.0     4  49.0     0.0  \n",
       "3    65.0     8  34.0     0.0  \n",
       "4    69.0    12  27.0     0.0  "
      ]
     },
     "execution_count": 81,
     "metadata": {},
     "output_type": "execute_result"
    }
   ],
   "source": [
    "df_hier = df_copy.join(df_label)\n",
    "df_hier.head()"
   ]
  },
  {
   "cell_type": "code",
   "execution_count": 82,
   "id": "451fd9b8",
   "metadata": {},
   "outputs": [
    {
     "name": "stdout",
     "output_type": "stream",
     "text": [
      "2 0.08688717436441665\n",
      "3 0.09987182324091935\n",
      "4 0.09662713717193722\n",
      "5 0.09867376281806567\n",
      "6 0.10852306495144173\n",
      "7 0.05450318732903717\n",
      "8 0.052770663946782176\n",
      "9 0.032191653960290105\n",
      "10 0.038655626232495154\n",
      "11 0.0432888160851652\n",
      "12 0.043749005336480074\n",
      "13 0.04968562044409822\n",
      "14 0.051612012138211094\n"
     ]
    }
   ],
   "source": [
    "scaled_features_df_sample = scaled_features_df.head(10000)\n",
    "\n",
    "for i in range(2,15):\n",
    "    hier = AgglomerativeClustering(n_clusters = i)\n",
    "    hier = hier.fit(scaled_features_df_sample)\n",
    "    labels = hier.fit_predict(scaled_features_df_sample)\n",
    "    print(i, silhouette_score(scaled_features_df_sample, labels))\n"
   ]
  },
  {
   "cell_type": "markdown",
   "id": "0be262e0",
   "metadata": {},
   "source": [
    "- From above Silhoutte scores, the score is highest for cluster 6."
   ]
  },
  {
   "cell_type": "markdown",
   "id": "b54cec0d",
   "metadata": {},
   "source": [
    "### ● Conclusion : [ Score: 2 point ]\n"
   ]
  },
  {
   "cell_type": "markdown",
   "id": "0cd59375",
   "metadata": {},
   "source": [
    "###### 17. Perform cluster analysis by doing bivariate analysis between cluster labels and different features and write your conclusion on the results. (2)"
   ]
  },
  {
   "cell_type": "code",
   "execution_count": 83,
   "id": "28999d49",
   "metadata": {},
   "outputs": [
    {
     "data": {
      "text/html": [
       "<div>\n",
       "<style scoped>\n",
       "    .dataframe tbody tr th:only-of-type {\n",
       "        vertical-align: middle;\n",
       "    }\n",
       "\n",
       "    .dataframe tbody tr th {\n",
       "        vertical-align: top;\n",
       "    }\n",
       "\n",
       "    .dataframe thead th {\n",
       "        text-align: right;\n",
       "    }\n",
       "</style>\n",
       "<table border=\"1\" class=\"dataframe\">\n",
       "  <thead>\n",
       "    <tr style=\"text-align: right;\">\n",
       "      <th></th>\n",
       "      <th>fit</th>\n",
       "      <th>bust size</th>\n",
       "      <th>weight</th>\n",
       "      <th>rating</th>\n",
       "      <th>rented for</th>\n",
       "      <th>body type</th>\n",
       "      <th>category</th>\n",
       "      <th>height</th>\n",
       "      <th>size</th>\n",
       "      <th>age</th>\n",
       "      <th>Labels</th>\n",
       "    </tr>\n",
       "  </thead>\n",
       "  <tbody>\n",
       "    <tr>\n",
       "      <th>0</th>\n",
       "      <td>0</td>\n",
       "      <td>39</td>\n",
       "      <td>137.000000</td>\n",
       "      <td>10.0</td>\n",
       "      <td>5</td>\n",
       "      <td>3</td>\n",
       "      <td>44</td>\n",
       "      <td>68.0</td>\n",
       "      <td>14</td>\n",
       "      <td>28.0</td>\n",
       "      <td>0.0</td>\n",
       "    </tr>\n",
       "    <tr>\n",
       "      <th>1</th>\n",
       "      <td>0</td>\n",
       "      <td>37</td>\n",
       "      <td>132.000000</td>\n",
       "      <td>10.0</td>\n",
       "      <td>3</td>\n",
       "      <td>6</td>\n",
       "      <td>20</td>\n",
       "      <td>66.0</td>\n",
       "      <td>12</td>\n",
       "      <td>36.0</td>\n",
       "      <td>0.0</td>\n",
       "    </tr>\n",
       "    <tr>\n",
       "      <th>2</th>\n",
       "      <td>0</td>\n",
       "      <td>37</td>\n",
       "      <td>137.391709</td>\n",
       "      <td>10.0</td>\n",
       "      <td>4</td>\n",
       "      <td>3</td>\n",
       "      <td>45</td>\n",
       "      <td>64.0</td>\n",
       "      <td>4</td>\n",
       "      <td>49.0</td>\n",
       "      <td>0.0</td>\n",
       "    </tr>\n",
       "    <tr>\n",
       "      <th>3</th>\n",
       "      <td>0</td>\n",
       "      <td>38</td>\n",
       "      <td>135.000000</td>\n",
       "      <td>8.0</td>\n",
       "      <td>2</td>\n",
       "      <td>4</td>\n",
       "      <td>16</td>\n",
       "      <td>65.0</td>\n",
       "      <td>8</td>\n",
       "      <td>34.0</td>\n",
       "      <td>0.0</td>\n",
       "    </tr>\n",
       "    <tr>\n",
       "      <th>4</th>\n",
       "      <td>0</td>\n",
       "      <td>37</td>\n",
       "      <td>145.000000</td>\n",
       "      <td>10.0</td>\n",
       "      <td>6</td>\n",
       "      <td>1</td>\n",
       "      <td>20</td>\n",
       "      <td>69.0</td>\n",
       "      <td>12</td>\n",
       "      <td>27.0</td>\n",
       "      <td>0.0</td>\n",
       "    </tr>\n",
       "  </tbody>\n",
       "</table>\n",
       "</div>"
      ],
      "text/plain": [
       "   fit  bust size      weight  rating  rented for  body type  category  \\\n",
       "0    0         39  137.000000    10.0           5          3        44   \n",
       "1    0         37  132.000000    10.0           3          6        20   \n",
       "2    0         37  137.391709    10.0           4          3        45   \n",
       "3    0         38  135.000000     8.0           2          4        16   \n",
       "4    0         37  145.000000    10.0           6          1        20   \n",
       "\n",
       "   height  size   age  Labels  \n",
       "0    68.0    14  28.0     0.0  \n",
       "1    66.0    12  36.0     0.0  \n",
       "2    64.0     4  49.0     0.0  \n",
       "3    65.0     8  34.0     0.0  \n",
       "4    69.0    12  27.0     0.0  "
      ]
     },
     "execution_count": 83,
     "metadata": {},
     "output_type": "execute_result"
    }
   ],
   "source": [
    "df_hier = df_copy.join(df_label)\n",
    "df_hier.head()"
   ]
  },
  {
   "cell_type": "code",
   "execution_count": 86,
   "id": "e0252a22",
   "metadata": {},
   "outputs": [
    {
     "data": {
      "image/png": "[encoded data removed]",
      "text/plain": [
       "<Figure size 640x480 with 1 Axes>"
      ]
     },
     "metadata": {},
     "output_type": "display_data"
    }
   ],
   "source": [
    "sns.barplot(x=df_hier['Labels'],y=df_hier['fit'], width=0.4)\n",
    "plt.show()"
   ]
  },
  {
   "cell_type": "markdown",
   "id": "4b58e148",
   "metadata": {},
   "source": [
    " -  customers of cluster 0.0 have fit feedback more than cluster 1.0 ."
   ]
  },
  {
   "cell_type": "code",
   "execution_count": 87,
   "id": "8716b6ab",
   "metadata": {},
   "outputs": [
    {
     "data": {
      "image/png": "[encoded data removed]",
      "text/plain": [
       "<Figure size 640x480 with 1 Axes>"
      ]
     },
     "metadata": {},
     "output_type": "display_data"
    }
   ],
   "source": [
    "sns.barplot(x=df_hier['Labels'],y =df_hier['weight'], width=0.4 )\n",
    "plt.show()"
   ]
  },
  {
   "cell_type": "markdown",
   "id": "b7830be8",
   "metadata": {},
   "source": [
    "- The weight of customers in cluster 0.0 is less than cluster 1.0."
   ]
  },
  {
   "cell_type": "code",
   "execution_count": 89,
   "id": "1fc5cca8",
   "metadata": {},
   "outputs": [
    {
     "data": {
      "image/png": "[encoded data removed]",
      "text/plain": [
       "<Figure size 640x480 with 1 Axes>"
      ]
     },
     "metadata": {},
     "output_type": "display_data"
    }
   ],
   "source": [
    "sns.barplot(x= df_hier['Labels'],y=df_hier['rating'], width=0.4)\n",
    "plt.show()"
   ]
  },
  {
   "cell_type": "markdown",
   "id": "09682f40",
   "metadata": {},
   "source": [
    "- The rating provided by customers is approximately the same in cluster 0.0 & 1.0."
   ]
  },
  {
   "cell_type": "code",
   "execution_count": 90,
   "id": "8d1eaee7",
   "metadata": {},
   "outputs": [
    {
     "data": {
      "image/png": "[encoded data removed]",
      "text/plain": [
       "<Figure size 640x480 with 1 Axes>"
      ]
     },
     "metadata": {},
     "output_type": "display_data"
    }
   ],
   "source": [
    "sns.barplot(x=df_hier['Labels'],y=df_hier['rented for'], width=0.4)\n",
    "plt.show()"
   ]
  },
  {
   "cell_type": "markdown",
   "id": "d00b02ef",
   "metadata": {},
   "source": [
    "- Customers who rented clothes in cluster 0.0 is lesser than those of cluster 1.0"
   ]
  },
  {
   "cell_type": "code",
   "execution_count": 91,
   "id": "20427fcd",
   "metadata": {},
   "outputs": [
    {
     "data": {
      "image/png": "[encoded data removed]",
      "text/plain": [
       "<Figure size 640x480 with 1 Axes>"
      ]
     },
     "metadata": {},
     "output_type": "display_data"
    }
   ],
   "source": [
    "sns.barplot(x=df_hier['Labels'],y=df_hier['body type'], width=0.4)\n",
    "plt.show()"
   ]
  },
  {
   "cell_type": "markdown",
   "id": "8b5a3790",
   "metadata": {},
   "source": [
    "- The body type in cluster 0.0 is more than in cluster 1.0."
   ]
  },
  {
   "cell_type": "code",
   "execution_count": 92,
   "id": "cc2407d0",
   "metadata": {},
   "outputs": [
    {
     "data": {
      "image/png": "[encoded data removed]",
      "text/plain": [
       "<Figure size 640x480 with 1 Axes>"
      ]
     },
     "metadata": {},
     "output_type": "display_data"
    }
   ],
   "source": [
    "sns.barplot(x=df_hier['Labels'],y=df_hier['category'], width=0.4)\n",
    "plt.show()"
   ]
  },
  {
   "cell_type": "markdown",
   "id": "f9021f50",
   "metadata": {},
   "source": [
    "- There are more categories in cluster 0.0 than in cluster 1.0."
   ]
  },
  {
   "cell_type": "code",
   "execution_count": 93,
   "id": "bd8aa0fc",
   "metadata": {},
   "outputs": [
    {
     "data": {
      "image/png": "[encoded data removed]",
      "text/plain": [
       "<Figure size 640x480 with 1 Axes>"
      ]
     },
     "metadata": {},
     "output_type": "display_data"
    }
   ],
   "source": [
    "sns.barplot(x=df_hier['Labels'],y=df_hier['height'], width=0.4)\n",
    "plt.show()"
   ]
  },
  {
   "cell_type": "markdown",
   "id": "974d8e4a",
   "metadata": {},
   "source": [
    "- The heights of the customers in both cluster is approximately the same."
   ]
  },
  {
   "cell_type": "code",
   "execution_count": 94,
   "id": "3e5df99a",
   "metadata": {},
   "outputs": [
    {
     "data": {
      "image/png": "[encoded data removed]",
      "text/plain": [
       "<Figure size 640x480 with 1 Axes>"
      ]
     },
     "metadata": {},
     "output_type": "display_data"
    }
   ],
   "source": [
    "sns.barplot(x=df_hier['Labels'],y=df_hier['age'], width=0.4)\n",
    "plt.show()"
   ]
  },
  {
   "cell_type": "markdown",
   "id": "357503e9",
   "metadata": {},
   "source": [
    "- The age of customers in clusters is same"
   ]
  },
  {
   "cell_type": "code",
   "execution_count": 95,
   "id": "fb6a8298",
   "metadata": {},
   "outputs": [
    {
     "data": {
      "image/png": "[encoded data removed]",
      "text/plain": [
       "<Figure size 640x480 with 1 Axes>"
      ]
     },
     "metadata": {},
     "output_type": "display_data"
    }
   ],
   "source": [
    "sns.barplot(x=df_hier['Labels'],y=df_hier['size'], width=0.4)\n",
    "plt.show()"
   ]
  },
  {
   "cell_type": "markdown",
   "id": "fcc88b10",
   "metadata": {},
   "source": [
    "- The size of products in cluster 1.0 is larger than cluster 0.0 ."
   ]
  },
  {
   "cell_type": "code",
   "execution_count": 96,
   "id": "84248e7a",
   "metadata": {},
   "outputs": [
    {
     "data": {
      "image/png": "[encoded data removed]",
      "text/plain": [
       "<Figure size 640x480 with 1 Axes>"
      ]
     },
     "metadata": {},
     "output_type": "display_data"
    }
   ],
   "source": [
    "df_hier['Labels'].value_counts().plot(kind='pie',autopct='%0.1f')\n",
    "plt.show()"
   ]
  },
  {
   "cell_type": "markdown",
   "id": "88c5eafc",
   "metadata": {},
   "source": [
    "-  The clusters formed are imbalanced. There are more number of records of cluster 0 than that of cluster 1."
   ]
  },
  {
   "cell_type": "code",
   "execution_count": 99,
   "id": "a43ee08d",
   "metadata": {},
   "outputs": [
    {
     "data": {
      "image/png": "[encoded data removed]",
      "text/plain": [
       "<Figure size 640x480 with 1 Axes>"
      ]
     },
     "metadata": {},
     "output_type": "display_data"
    }
   ],
   "source": [
    "sns.countplot(x=df['rented for'],hue='Labels',data=df_hier)\n",
    "plt.xticks(rotation = 45)\n",
    "plt.show()"
   ]
  },
  {
   "cell_type": "markdown",
   "id": "51b2f958",
   "metadata": {},
   "source": [
    "- From the above plot it is observed that there are more number of users who have rented the product is for 'wedding'.\n",
    "- cluster 0 is larger than cluster 1 in \"Wedding\"."
   ]
  },
  {
   "cell_type": "code",
   "execution_count": 100,
   "id": "488faaef",
   "metadata": {},
   "outputs": [
    {
     "data": {
      "image/png": "[encoded data removed]",
      "text/plain": [
       "<Figure size 640x480 with 1 Axes>"
      ]
     },
     "metadata": {},
     "output_type": "display_data"
    }
   ],
   "source": [
    "## Lets check the age distribution of the different clusters.\n",
    "sns.kdeplot(x=df_hier['age'],hue='Labels',data=df_hier)\n",
    "plt.show()"
   ]
  },
  {
   "cell_type": "markdown",
   "id": "875c31b3",
   "metadata": {},
   "source": [
    "- The distribution of the age for different clusters is almost same, but there are more number of observations assigned to the cluster 0.\n",
    "\n",
    "- In this project, we implemented PCA on the 'renttherunway' dataset and selected 8 PCA compoments, which gave us the 90-95% of the variance in the data.\n",
    "\n",
    "- Time of computation is more than 20 minutes, should be taken into consideration for getting the final result."
   ]
  }
 ],
 "metadata": {
  "kernelspec": {
   "display_name": "Python 3 (ipykernel)",
   "language": "python",
   "name": "python3"
  },
  "language_info": {
   "codemirror_mode": {
    "name": "ipython",
    "version": 3
   },
   "file_extension": ".py",
   "mimetype": "text/x-python",
   "name": "python",
   "nbconvert_exporter": "python",
   "pygments_lexer": "ipython3",
   "version": "3.11.3"
  }
 },
 "nbformat": 4,
 "nbformat_minor": 5
}
